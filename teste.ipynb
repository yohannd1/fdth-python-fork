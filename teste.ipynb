{
 "cells": [
  {
   "cell_type": "markdown",
   "id": "052f6f5f",
   "metadata": {},
   "source": [
    "# fdt numérico"
   ]
  },
  {
   "cell_type": "code",
   "execution_count": null,
   "id": "49a869b8",
   "metadata": {},
   "outputs": [],
   "source": [
    "import matplotlib.pyplot as plt\n",
    "\n",
    "from fdth import NumericalFDT\n",
    "\n",
    "dados = [7, 8, 8, 9, 10, 10, 10, 11, 12, 12, 13, 13, 13, 13, 14, 15, 15]\n",
    "print(f\"{dados=}\")\n",
    "\n",
    "fd_num = NumericalFDT(dados)\n",
    "print(f\"{fd_num=}\")\n",
    "\n",
    "print(\"Média:\", fd_num.mean())  # Agora já vem arredondado\n",
    "print(\"Mediana:\", fd_num.median())  # Agora já vem arredondado\n",
    "print(\"Variância:\", fd_num.var())  # Agora já vem arredondado\n",
    "\n",
    "fd_num.plot_histogram()\n",
    "plt.show()"
   ]
  },
  {
   "cell_type": "markdown",
   "id": "c94075ed",
   "metadata": {},
   "source": [
    "PARA RECONHECER - NUMÉRICO"
   ]
  },
  {
   "cell_type": "code",
   "execution_count": null,
   "id": "09372c89",
   "metadata": {},
   "outputs": [],
   "source": [
    "import matplotlib.pyplot as plt\n",
    "import pandas as pd\n",
    "\n",
    "from fdth import fdt\n",
    "\n",
    "dados_numericos = [1, 2, 2, 3, 3, 3, 4, 4, 4, 5]\n",
    "fd = fdt(dados_numericos)\n",
    "\n",
    "# Gerar a Tabela de Distribuição de Frequência\n",
    "print(fd.get_table())\n",
    "\n",
    "print(\"Média:\", fd.mean())\n",
    "print(\"Variância:\", fd.var())\n",
    "\n",
    "# Plotar o histograma\n",
    "fd.plot_histogram()\n",
    "plt.show()"
   ]
  },
  {
   "cell_type": "markdown",
   "id": "613a4e6e",
   "metadata": {},
   "source": [
    "CATEGORICO"
   ]
  },
  {
   "cell_type": "code",
   "execution_count": null,
   "id": "8cb1c134",
   "metadata": {},
   "outputs": [],
   "source": [
    "import matplotlib.pyplot as plt\n",
    "\n",
    "from fdth import CategoricalFDT\n",
    "\n",
    "dados_categoricos = ['a', 'b', 'a', 'c', 'b', 'a', 'd', 'b', 'c', 'a']\n",
    "fd = CategoricalFDT(dados_categoricos)\n",
    "\n",
    "# Gerar a Tabela de Distribuição de Frequência\n",
    "print(fd.get_table())\n",
    "\n",
    "# Calcular a moda\n",
    "print(\"Moda:\", fd.mfv())\n",
    "\n",
    "# Plotar o histograma\n",
    "fd.plot_histogram()\n",
    "plt.show()"
   ]
  },
  {
   "cell_type": "markdown",
   "id": "f459fd5a",
   "metadata": {},
   "source": [
    "PARA RECONHECER - CATEGÓRICO"
   ]
  },
  {
   "cell_type": "code",
   "execution_count": null,
   "id": "a4fca84a",
   "metadata": {},
   "outputs": [],
   "source": [
    "import matplotlib.pyplot as plt\n",
    "\n",
    "dados_categoricos = ['a', 'b', 'a', 'c', 'b', 'a', 'd', 'b', 'c', 'a']\n",
    "fd = fdt(dados_categoricos)\n",
    "\n",
    "# Gerar a Tabela de Distribuição de Frequência\n",
    "print(fd.get_table())\n",
    "\n",
    "# Calcular a moda\n",
    "print(\"Moda:\", fd.mfv())\n",
    "\n",
    "# Plotar o histograma\n",
    "fd.plot_histogram()\n",
    "plt.show()"
   ]
  },
  {
   "cell_type": "markdown",
   "id": "b14371a3",
   "metadata": {},
   "source": [
    "MÚLTIPLO"
   ]
  },
  {
   "cell_type": "code",
   "execution_count": null,
   "id": "5092d80e",
   "metadata": {},
   "outputs": [],
   "source": [
    "from fdth import fdt\n",
    "import pandas as pd\n",
    "\n",
    "df = pd.DataFrame({\n",
    "    \"A\": [10, 20, 50, 3],\n",
    "    \"B\": [\"hello\", 5, 8, \"b\"],\n",
    "})\n",
    "print(df)\n",
    "\n",
    "fd = fdt(df)\n",
    "print(fd)"
   ]
  },
  {
   "cell_type": "code",
   "execution_count": null,
   "id": "b02ff6b1",
   "metadata": {},
   "outputs": [],
   "source": [
    "import matplotlib.pyplot as plt\n",
    "from fdth import fdt\n",
    "from fdth.summary_fdt_default import summary_fdt_cat_default\n",
    "\n",
    "dados_categoricos = [1, 3, 4, 2, 8 , 8, 8, 9, 1, 35]\n",
    "fd = fdt(dados_categoricos)\n",
    "print(fd.to_string())"
   ]
  },
  {
   "cell_type": "code",
   "execution_count": null,
   "id": "78768a0f",
   "metadata": {},
   "outputs": [],
   "source": []
  }
 ],
 "metadata": {
  "kernelspec": {
   "display_name": "venv",
   "language": "python",
   "name": "python3"
  },
  "language_info": {
   "codemirror_mode": {
    "name": "ipython",
    "version": 3
   },
   "file_extension": ".py",
   "mimetype": "text/x-python",
   "name": "python",
   "nbconvert_exporter": "python",
   "pygments_lexer": "ipython3",
   "version": "3.13.5"
  }
 },
 "nbformat": 4,
 "nbformat_minor": 5
}
