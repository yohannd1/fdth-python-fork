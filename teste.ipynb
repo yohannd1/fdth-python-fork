{
 "cells": [
  {
   "cell_type": "markdown",
   "id": "052f6f5f",
   "metadata": {},
   "source": [
    "# fdt numérico"
   ]
  },
  {
   "cell_type": "code",
   "execution_count": null,
   "id": "49a869b8",
   "metadata": {},
   "outputs": [],
   "source": [
    "from fdth import NumericalFDT\n",
    "\n",
    "dados = [7, 8, 8, 9, 10, 10, 10, 11, 12, 12, 13, 13, 13, 13, 14, 15, 15]\n",
    "fd_num = NumericalFDT(dados)\n",
    "print(dir(fd_num))\n",
    "\n",
    "print(fd_num.get_table())\n",
    "print(\"Média:\", fd_num.mean())  # Agora já vem arredondado\n",
    "print(\"Mediana:\", fd_num.median())  # Agora já vem arredondado\n",
    "print(\"Variância:\", fd_num.var())  # Agora já vem arredondado\n",
    "\n",
    "fd_num.plot_histogram()"
   ]
  },
  {
   "cell_type": "markdown",
   "id": "c94075ed",
   "metadata": {},
   "source": [
    "PARA RECONHECER - NUMÉRICO"
   ]
  },
  {
   "cell_type": "code",
   "execution_count": null,
   "id": "09372c89",
   "metadata": {},
   "outputs": [],
   "source": [
    "from fdth import fdt\n",
    "import pandas as pd\n",
    "\n",
    "dados_numericos = [1, 2, 2, 3, 3, 3, 4, 4, 4, 5]\n",
    "fd = fdt(dados_numericos)\n",
    "\n",
    "print(fd)\n",
    "\n",
    "# Gerar a Tabela de Distribuição de Frequência\n",
    "print(fd.get_table())\n",
    "\n",
    "# Calcular a média\n",
    "print(\"Média:\", fd.mean())\n",
    "\n",
    "# Calcular o desvio padrão\n",
    "print(\"Desvio Padrão:\", fd.var())\n",
    "\n",
    "# Plotar o histograma\n",
    "fd.plot_histogram()"
   ]
  },
  {
   "cell_type": "markdown",
   "id": "613a4e6e",
   "metadata": {},
   "source": [
    "CATEGORICO"
   ]
  },
  {
   "cell_type": "code",
   "execution_count": null,
   "id": "8cb1c134",
   "metadata": {},
   "outputs": [],
   "source": [
    "from fdth import CategoricalFDT\n",
    "\n",
    "dados_categoricos = ['a', 'b', 'a', 'c', 'b', 'a', 'd', 'b', 'c', 'a']\n",
    "fd_cat = CategoricalFDT(dados_categoricos)\n",
    "\n",
    "# Gerar a Tabela de Distribuição de Frequência\n",
    "print(fd_cat.get_table())\n",
    "\n",
    "# Calcular a moda\n",
    "print(\"Moda:\", fd_cat.mode())\n",
    "\n",
    "# Plotar o histograma\n",
    "fd_cat.plot_histogram()"
   ]
  },
  {
   "cell_type": "markdown",
   "id": "f459fd5a",
   "metadata": {},
   "source": [
    "PARA RECONHECER - CATEGÓRICO"
   ]
  },
  {
   "cell_type": "code",
   "execution_count": null,
   "id": "a4fca84a",
   "metadata": {},
   "outputs": [],
   "source": [
    "dados_categoricos = ['a', 'b', 'a', 'c', 'b', 'a', 'd', 'b', 'c', 'a']\n",
    "fd = fdt(dados_categoricos)\n",
    "\n",
    "# Gerar a Tabela de Distribuição de Frequência\n",
    "print(fd.get_table())\n",
    "\n",
    "# Calcular a moda\n",
    "print(\"Moda:\", fd.mode())\n",
    "\n",
    "# Plotar o histograma\n",
    "fd.plot_histogram()"
   ]
  }
 ],
 "metadata": {
  "kernelspec": {
   "display_name": "Python 3",
   "language": "python",
   "name": "python3"
  },
  "language_info": {
   "codemirror_mode": {
    "name": "ipython",
    "version": 3
   },
   "file_extension": ".py",
   "mimetype": "text/x-python",
   "name": "python",
   "nbconvert_exporter": "python",
   "pygments_lexer": "ipython3",
   "version": "3.13.3"
  }
 },
 "nbformat": 4,
 "nbformat_minor": 5
}
