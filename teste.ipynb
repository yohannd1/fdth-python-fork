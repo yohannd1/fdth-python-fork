{
 "cells": [
  {
   "cell_type": "markdown",
   "id": "052f6f5f",
   "metadata": {},
   "source": [
    "# fdt numérico"
   ]
  },
  {
   "cell_type": "code",
   "execution_count": 1,
   "id": "49a869b8",
   "metadata": {},
   "outputs": [
    {
     "name": "stdout",
     "output_type": "stream",
     "text": [
      "dados=[7, 8, 8, 9, 10, 10, 10, 11, 12, 12, 13, 13, 13, 13, 14, 15, 15]\n",
      "fd_num=NumericalFDT (17 elements, 6 classes, amplitude of 1.37):\n",
      "  Class limits  f   rf  rf(%)  cf  cf(%)\n",
      "   [6.93, 8.3)  3 0.18  17.65   3  17.65\n",
      "   [8.3, 9.67)  1 0.06   5.88   4  23.53\n",
      " [9.67, 11.04)  4 0.24  23.53   8  47.06\n",
      "[11.04, 12.41)  2 0.12  11.76  10  58.82\n",
      "[12.41, 13.78)  4 0.24  23.53  14  82.35\n",
      "... 12 more lines\n",
      "Média: 11.322058823529414\n",
      "Mediana: 11.896250000000004\n",
      "Variância: 5.810109558823537\n"
     ]
    },
    {
     "data": {
      "image/png": "[encoded data removed]",
      "text/plain": [
       "<Figure size 640x480 with 1 Axes>"
      ]
     },
     "metadata": {},
     "output_type": "display_data"
    }
   ],
   "source": [
    "import matplotlib.pyplot as plt\n",
    "\n",
    "from fdth import NumericalFDT\n",
    "\n",
    "dados = [7, 8, 8, 9, 10, 10, 10, 11, 12, 12, 13, 13, 13, 13, 14, 15, 15]\n",
    "print(f\"{dados=}\")\n",
    "\n",
    "fd_num = NumericalFDT(dados)\n",
    "print(f\"{fd_num=}\")\n",
    "\n",
    "print(\"Média:\", fd_num.mean())  # Agora já vem arredondado\n",
    "print(\"Mediana:\", fd_num.median())  # Agora já vem arredondado\n",
    "print(\"Variância:\", fd_num.var())  # Agora já vem arredondado\n",
    "\n",
    "fd_num.plot_histogram()\n",
    "plt.show()"
   ]
  },
  {
   "cell_type": "markdown",
   "id": "c94075ed",
   "metadata": {},
   "source": [
    "PARA RECONHECER - NUMÉRICO"
   ]
  },
  {
   "cell_type": "code",
   "execution_count": null,
   "id": "09372c89",
   "metadata": {},
   "outputs": [],
   "source": [
    "import matplotlib.pyplot as plt\n",
    "import pandas as pd\n",
    "\n",
    "from fdth import fdt\n",
    "\n",
    "dados_numericos = [1, 2, 2, 3, 3, 3, 4, 4, 4, 5]\n",
    "fd = fdt(dados_numericos)\n",
    "\n",
    "# Gerar a Tabela de Distribuição de Frequência\n",
    "print(fd.get_table())\n",
    "\n",
    "print(\"Média:\", fd.mean())\n",
    "print(\"Variância:\", fd.var())\n",
    "\n",
    "# Plotar o histograma\n",
    "fd.plot_histogram()\n",
    "plt.show()"
   ]
  },
  {
   "cell_type": "markdown",
   "id": "613a4e6e",
   "metadata": {},
   "source": [
    "CATEGORICO"
   ]
  },
  {
   "cell_type": "code",
   "execution_count": null,
   "id": "8cb1c134",
   "metadata": {},
   "outputs": [],
   "source": [
    "import matplotlib.pyplot as plt\n",
    "\n",
    "from fdth import CategoricalFDT\n",
    "\n",
    "dados_categoricos = ['a', 'b', 'a', 'c', 'b', 'a', 'd', 'b', 'c', 'a']\n",
    "fd = CategoricalFDT(dados_categoricos)\n",
    "\n",
    "# Gerar a Tabela de Distribuição de Frequência\n",
    "print(fd.get_table())\n",
    "\n",
    "# Calcular a moda\n",
    "print(\"Moda:\", fd.mfv())\n",
    "\n",
    "# Plotar o histograma\n",
    "fd.plot_histogram()\n",
    "plt.show()"
   ]
  },
  {
   "cell_type": "markdown",
   "id": "f459fd5a",
   "metadata": {},
   "source": [
    "PARA RECONHECER - CATEGÓRICO"
   ]
  },
  {
   "cell_type": "code",
   "execution_count": null,
   "id": "a4fca84a",
   "metadata": {},
   "outputs": [],
   "source": [
    "import matplotlib.pyplot as plt\n",
    "\n",
    "dados_categoricos = ['a', 'b', 'a', 'c', 'b', 'a', 'd', 'b', 'c', 'a']\n",
    "fd = fdt(dados_categoricos)\n",
    "\n",
    "# Gerar a Tabela de Distribuição de Frequência\n",
    "print(fd.get_table())\n",
    "\n",
    "# Calcular a moda\n",
    "print(\"Moda:\", fd.mfv())\n",
    "\n",
    "# Plotar o histograma\n",
    "fd.plot_histogram()\n",
    "plt.show()"
   ]
  },
  {
   "cell_type": "markdown",
   "id": "b14371a3",
   "metadata": {},
   "source": [
    "MÚLTIPLO"
   ]
  },
  {
   "cell_type": "code",
   "execution_count": null,
   "id": "5092d80e",
   "metadata": {},
   "outputs": [],
   "source": [
    "from fdth import fdt\n",
    "import pandas as pd\n",
    "\n",
    "df = pd.DataFrame({\n",
    "    \"A\": [10, 20, 50, 3],\n",
    "    \"B\": [\"hello\", 5, 8, \"b\"],\n",
    "})\n",
    "print(df)\n",
    "\n",
    "fd = fdt(df)\n",
    "print(fd)"
   ]
  },
  {
   "cell_type": "code",
   "execution_count": 2,
   "id": "b02ff6b1",
   "metadata": {},
   "outputs": [
    {
     "name": "stdout",
     "output_type": "stream",
     "text": [
      "  Class limits  f  rf  rf(%)  cf  cf(%)\n",
      "  [0.99, 7.86)  5 0.5   50.0   5   50.0\n",
      " [7.86, 14.73)  4 0.4   40.0   9   90.0\n",
      "[14.73, 21.61)  0 0.0    0.0   9   90.0\n",
      "[21.61, 28.48)  0 0.0    0.0   9   90.0\n",
      "[28.48, 35.35)  1 0.1   10.0  10  100.0\n"
     ]
    }
   ],
   "source": [
    "import matplotlib.pyplot as plt\n",
    "from fdth import fdt\n",
    "\n",
    "\n",
    "dados_categoricos = [1, 3, 4, 2, 8 , 8, 8, 9, 1, 35]\n",
    "fd = fdt(dados_categoricos)\n",
    "print(fd.to_string())"
   ]
  },
  {
   "cell_type": "code",
   "execution_count": null,
   "id": "78768a0f",
   "metadata": {},
   "outputs": [],
   "source": []
  }
 ],
 "metadata": {
  "kernelspec": {
   "display_name": "venv",
   "language": "python",
   "name": "python3"
  },
  "language_info": {
   "codemirror_mode": {
    "name": "ipython",
    "version": 3
   },
   "file_extension": ".py",
   "mimetype": "text/x-python",
   "name": "python",
   "nbconvert_exporter": "python",
   "pygments_lexer": "ipython3",
   "version": "3.13.3"
  }
 },
 "nbformat": 4,
 "nbformat_minor": 5
}
