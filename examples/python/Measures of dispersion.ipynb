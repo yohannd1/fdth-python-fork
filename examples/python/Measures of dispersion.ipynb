{
 "cells": [
  {
   "cell_type": "markdown",
   "id": "f4eecfb7",
   "metadata": {},
   "source": [
    "### Imports"
   ]
  },
  {
   "cell_type": "code",
   "execution_count": 2,
   "id": "8d1025aa",
   "metadata": {},
   "outputs": [],
   "source": [
    "import numpy as np\n",
    "from fdth import fdt"
   ]
  },
  {
   "cell_type": "markdown",
   "id": "c338fbc2",
   "metadata": {},
   "source": [
    "# FDT Standard Deviation and Variance Testing\n",
    "Este caderno demonstra o uso dos metodos FDT para calcular o desvio-padrão e a variância a partir de tabelas de distribuição de frequência e séries de dados padrão.\n",
    "Exploraremos diferentes exemplos para diversos casos de uso envolvendo cálculos de desvio-padrão e variância."
   ]
  },
  {
   "cell_type": "markdown",
   "id": "2c89ad37",
   "metadata": {},
   "source": [
    "### FDT Standard Deviation Testing\n",
    "Esta seção demonstra o cálculo da variância das tabelas de distribuição de frequência usando o metodo `.sd()`."
   ]
  },
  {
   "cell_type": "code",
   "execution_count": 3,
   "id": "9ecc6a13",
   "metadata": {},
   "outputs": [
    {
     "name": "stdout",
     "output_type": "stream",
     "text": [
      "Teste 1 (Desvio Padrão): 9.558829542481767\n"
     ]
    }
   ],
   "source": [
    "# Teste 1\n",
    "dados = [10, 12, 15, 20, 22, 25, 25, 30, 35, 40]\n",
    "# Executando o teste\n",
    "print('Teste 1 (Desvio Padrão):', fdt(dados).sd())"
   ]
  },
  {
   "cell_type": "code",
   "execution_count": 7,
   "id": "d02fd343",
   "metadata": {},
   "outputs": [
    {
     "name": "stdout",
     "output_type": "stream",
     "text": [
      "Teste 2 (Desvio Padrão): 2.8423919504529986\n"
     ]
    }
   ],
   "source": [
    "# Teste 2\n",
    "data_test2 = fdt([0, 1, 3, 2, 6, 3, 8, 9, 4])\n",
    "# Executando o teste\n",
    "print('Teste 2 (Desvio Padrão):', data_test2.sd())"
   ]
  },
  {
   "cell_type": "markdown",
   "id": "30ab54f8",
   "metadata": {},
   "source": [
    "### FDT Variance Testing\n",
    "Esta seção demonstra o cálculo da variância das tabelas de distribuição de frequência usando o metodo `.var()`."
   ]
  },
  {
   "cell_type": "code",
   "execution_count": 9,
   "id": "e937a9a4",
   "metadata": {},
   "outputs": [
    {
     "name": "stdout",
     "output_type": "stream",
     "text": [
      "Teste 1 (Variância): 91.37122222222219\n"
     ]
    }
   ],
   "source": [
    "# Dados para o teste\n",
    "dados = [10, 12, 15, 20, 22, 25, 25, 30, 35, 40]\n",
    "# Executando o teste\n",
    "print('Teste 1 (Variância):', fdt(dados).var())"
   ]
  },
  {
   "cell_type": "code",
   "execution_count": 10,
   "id": "77fb8a97",
   "metadata": {},
   "outputs": [
    {
     "name": "stdout",
     "output_type": "stream",
     "text": [
      "Teste 2 (Variância): 8.079192000000003\n"
     ]
    }
   ],
   "source": [
    "# Dados para o teste\n",
    "data_test2 = fdt([0, 1, 3, 2, 6, 3, 8, 9, 4])\n",
    "# Executando o teste\n",
    "print('Teste 2 (Variância):', data_test2.var())"
   ]
  }
 ],
 "metadata": {
  "kernelspec": {
   "display_name": ".venv (3.13.3)",
   "language": "python",
   "name": "python3"
  },
  "language_info": {
   "codemirror_mode": {
    "name": "ipython",
    "version": 3
   },
   "file_extension": ".py",
   "mimetype": "text/x-python",
   "name": "python",
   "nbconvert_exporter": "python",
   "pygments_lexer": "ipython3",
   "version": "3.13.3"
  }
 },
 "nbformat": 4,
 "nbformat_minor": 5
}
