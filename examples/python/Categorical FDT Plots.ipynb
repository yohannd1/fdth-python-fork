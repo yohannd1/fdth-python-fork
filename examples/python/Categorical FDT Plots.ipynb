{
 "cells": [
  {
   "cell_type": "markdown",
   "id": "2c8bb068",
   "metadata": {},
   "source": [
    "### Imports"
   ]
  },
  {
   "cell_type": "code",
   "execution_count": 1,
   "id": "5f06b90a",
   "metadata": {},
   "outputs": [],
   "source": [
    "import numpy as np\n",
    "import pandas as pd\n",
    "from fdth import fdt"
   ]
  },
  {
   "cell_type": "code",
   "execution_count": null,
   "id": "35ec4ac4",
   "metadata": {},
   "outputs": [],
   "source": [
    "dados = [\"Carro\", \"Moto\", \"Moto\", \"Bicicleta\", \"Carro\", \"Caminhão\", \"Moto\", \"Carro\", \"Bicicleta\", \"Iate\", \"Iate\", \"Moto\", \"Ônibus\"]\n",
    "fd = fdt(dados)"
   ]
  },
  {
   "cell_type": "code",
   "execution_count": null,
   "id": "39688135",
   "metadata": {},
   "outputs": [],
   "source": [
    "# bar plot with frequencies\n",
    "fd.plot(type_=\"fb\")"
   ]
  },
  {
   "cell_type": "code",
   "execution_count": null,
   "id": "995cc404",
   "metadata": {},
   "outputs": [],
   "source": [
    "# polygon plot with frequencies\n",
    "fd.plot(type_=\"fp\")"
   ]
  },
  {
   "cell_type": "code",
   "execution_count": null,
   "id": "63781900",
   "metadata": {},
   "outputs": [],
   "source": [
    "# dot chart with frequencies\n",
    "fd.plot(type_=\"fd\")"
   ]
  },
  {
   "cell_type": "code",
   "execution_count": null,
   "id": "844c5993",
   "metadata": {},
   "outputs": [],
   "source": [
    "# pareto plot with cumulative frequencies\n",
    "fd.plot(type_=\"pa\")"
   ]
  },
  {
   "cell_type": "code",
   "execution_count": null,
   "id": "406f5647",
   "metadata": {},
   "outputs": [],
   "source": [
    "# bar plot with relative frequencies\n",
    "fd.plot(type_=\"rfb\")"
   ]
  },
  {
   "cell_type": "code",
   "execution_count": null,
   "id": "98839e57",
   "metadata": {},
   "outputs": [],
   "source": [
    "# polygon plot with relative frequencies\n",
    "fd.plot(type_=\"rfp\")"
   ]
  },
  {
   "cell_type": "code",
   "execution_count": null,
   "id": "268c6e28",
   "metadata": {},
   "outputs": [],
   "source": [
    "# dot chart with relative frequencies\n",
    "fd.plot(type_=\"rfd\")"
   ]
  },
  {
   "cell_type": "code",
   "execution_count": null,
   "id": "f75be31e",
   "metadata": {},
   "outputs": [],
   "source": [
    "# bar plot with relative frequencies in %\n",
    "fd.plot(type_=\"rfpb\")"
   ]
  },
  {
   "cell_type": "code",
   "execution_count": null,
   "id": "615c7ef7",
   "metadata": {},
   "outputs": [],
   "source": [
    "# polygon plot with relative frequencies in %\n",
    "fd.plot(type_=\"rfpp\")"
   ]
  },
  {
   "cell_type": "code",
   "execution_count": null,
   "id": "6b6c6125",
   "metadata": {},
   "outputs": [],
   "source": [
    "# dot chart with relative frequencies in %\n",
    "fd.plot(type_=\"rfpd\")"
   ]
  },
  {
   "cell_type": "code",
   "execution_count": null,
   "id": "9523ccf4",
   "metadata": {},
   "outputs": [],
   "source": [
    "# bar plot with cumulative frequencies\n",
    "fd.plot(type_=\"cfb\")"
   ]
  },
  {
   "cell_type": "code",
   "execution_count": null,
   "id": "92011b7d",
   "metadata": {},
   "outputs": [],
   "source": [
    "# polygon plot with cumulative frequencies\n",
    "fd.plot(type_=\"cfp\")"
   ]
  },
  {
   "cell_type": "code",
   "execution_count": null,
   "id": "b8e6a9df",
   "metadata": {},
   "outputs": [],
   "source": [
    "# dot chart with cumulative frequencies\n",
    "fd.plot(type_=\"cfd\")"
   ]
  },
  {
   "cell_type": "code",
   "execution_count": null,
   "id": "3206a052",
   "metadata": {},
   "outputs": [],
   "source": [
    "# bar plot with cumulative frequencies in %\n",
    "fd.plot(type_=\"cfpb\")"
   ]
  },
  {
   "cell_type": "code",
   "execution_count": null,
   "id": "cb30495d",
   "metadata": {},
   "outputs": [],
   "source": [
    "# polygon plot with cumulative frequencies in %\n",
    "fd.plot(type_=\"cfpp\")"
   ]
  },
  {
   "cell_type": "code",
   "execution_count": null,
   "id": "78b6f68e",
   "metadata": {},
   "outputs": [],
   "source": [
    "# dot chart with cumulative frequencies in %\n",
    "fd.plot(type_=\"cfpd\")"
   ]
  }
 ],
 "metadata": {
  "kernelspec": {
   "display_name": "venv",
   "language": "python",
   "name": "python3"
  },
  "language_info": {
   "codemirror_mode": {
    "name": "ipython",
    "version": 3
   },
   "file_extension": ".py",
   "mimetype": "text/x-python",
   "name": "python",
   "nbconvert_exporter": "python",
   "pygments_lexer": "ipython3",
   "version": "3.13.5"
  }
 },
 "nbformat": 4,
 "nbformat_minor": 5
}
