{
 "cells": [
  {
   "cell_type": "code",
   "execution_count": null,
   "id": "def639b8",
   "metadata": {},
   "outputs": [],
   "source": [
    "import numpy as np\n",
    "import pandas as pd\n",
    "from fdth import fdt"
   ]
  },
  {
   "cell_type": "markdown",
   "id": "0cb63de3",
   "metadata": {},
   "source": [
    "### `fdt_cat_dataframe`"
   ]
  },
  {
   "cell_type": "code",
   "execution_count": null,
   "id": "7ea0df2b",
   "metadata": {},
   "outputs": [],
   "source": [
    "# Test 1: Sem agrupamento\n",
    "# Verifica a geração de tabelas de frequência para um DataFrame com colunas categóricas,\n",
    "# sem considerar agrupamento. Ordena os resultados de forma decrescente.\n",
    "\n",
    "df1 = pd.DataFrame({\n",
    "    'col1': pd.Categorical(['A', 'B', 'A', 'C', 'C']),\n",
    "    'col2': pd.Categorical(['X', 'X', 'Y', 'X', 'Y'])\n",
    "})\n",
    "result1 = fdt(df1, sort=True, decreasing=True)\n",
    "print(result1)"
   ]
  },
  {
   "cell_type": "code",
   "execution_count": null,
   "id": "e5986fde",
   "metadata": {},
   "outputs": [],
   "source": [
    "# Test 2: Com agrupamento\n",
    "# Avalia a funcionalidade da função ao agrupar os dados por uma coluna específica ('group'),\n",
    "# criando tabelas de frequência para as colunas categóricas dentro de cada grupo.\n",
    "# Ordena os resultados de forma crescente.\n",
    "\n",
    "df2 = pd.DataFrame({\n",
    "    'group': pd.Categorical(['G1', 'G1', 'G2', 'G2', 'G2']),\n",
    "    'col1': pd.Categorical(['A', 'B', 'A', 'C', 'C']),\n",
    "    'col2': pd.Categorical(['X', 'X', 'Y', 'X', 'Y'])\n",
    "})\n",
    "result2 = fdt(df2, by='group', sort=True, decreasing=False)\n",
    "print(result2)"
   ]
  },
  {
   "cell_type": "code",
   "execution_count": null,
   "id": "deaf246f",
   "metadata": {},
   "outputs": [],
   "source": [
    "# Test 3: Com coluna numérica\n",
    "# Testa a função em um DataFrame que contém colunas categóricas e uma coluna numérica.\n",
    "# Gera tabelas de frequência para todas as colunas.\n",
    "# Não realiza ordenação nas tabelas.\n",
    "\n",
    "df3 = pd.DataFrame({\n",
    "    'col1': pd.Categorical(['A', 'B', 'A', 'C', 'C']),\n",
    "    'col2': pd.Categorical(['X', 'X', 'Y', 'X', 'Y']),\n",
    "    'col3': [1, 2, 3, 4, 5]  # Numeric column\n",
    "})\n",
    "result3 = fdt(df3, sort=False)\n",
    "print(result3)"
   ]
  },
  {
   "cell_type": "markdown",
   "id": "82a92594",
   "metadata": {},
   "source": [
    "### `fdt_cat_matrix`"
   ]
  },
  {
   "cell_type": "code",
   "execution_count": null,
   "id": "929660aa",
   "metadata": {},
   "outputs": [],
   "source": [
    "# Test 1: Verifica a criação de tabelas de distribuição de frequência\n",
    "# para uma matriz de categorias distintas distribuídas igualmente\n",
    "# em várias colunas. Ordena os resultados em ordem decrescente.\n",
    "\n",
    "x = np.array([\n",
    "    ['A', 'B', 'C'],\n",
    "    ['A', 'B', 'C'],\n",
    "    ['B', 'A', 'C'],\n",
    "    ['C', 'A', 'B']\n",
    "])\n",
    "df = pd.DataFrame(x, columns=['Col1', 'Col2', 'Col3'])\n",
    "res = fdt(df, sort=True, decreasing=True)\n",
    "print(res)"
   ]
  },
  {
   "cell_type": "code",
   "execution_count": null,
   "id": "819ae74f",
   "metadata": {},
   "outputs": [],
   "source": [
    "# Test 2: Testa a criação de tabelas de distribuição de frequência\n",
    "# para uma matriz com valores homogêneos (mesmas categorias em todas\n",
    "# as colunas e linhas). Ordena os resultados em ordem decrescente.\n",
    "\n",
    "x = np.array([\n",
    "    ['X', 'Y', 'Z'],\n",
    "    ['X', 'Y', 'Z'],\n",
    "    ['X', 'Y', 'Z'],\n",
    "    ['X', 'Y', 'Z']\n",
    "])\n",
    "df = pd.DataFrame(x, columns=['Col1', 'Col2', 'Col3'])\n",
    "res = fdt(df, sort=True, decreasing=True)\n",
    "print(res)"
   ]
  },
  {
   "cell_type": "code",
   "execution_count": null,
   "id": "4e603d02",
   "metadata": {},
   "outputs": [],
   "source": [
    "# Test 3: Avalia a criação de tabelas de frequência para uma matriz\n",
    "# com categorias variadas em cada coluna. Ordena os resultados em\n",
    "# ordem crescente.\n",
    "\n",
    "x = np.array([\n",
    "    ['Dog', 'Cat', 'Fish'],\n",
    "    ['Dog', 'Dog', 'Bird'],\n",
    "    ['Cat', 'Cat', 'Fish'],\n",
    "    ['Fish', 'Dog', 'Bird']\n",
    "])\n",
    "df = pd.DataFrame(x, columns=['Col1', 'Col2', 'Col3'])\n",
    "res = fdt(df, sort=True, decreasing=False)\n",
    "print(res)"
   ]
  },
  {
   "cell_type": "markdown",
   "id": "74163fb5",
   "metadata": {},
   "source": [
    "### `fdt`"
   ]
  },
  {
   "cell_type": "code",
   "execution_count": null,
   "id": "cb5e5f97",
   "metadata": {},
   "outputs": [],
   "source": [
    "x1 = ['A', 'B', 'A', 'C', 'B', 'B', 'C', 'A', 'C', 'C']\n",
    "x2 = ['X', 'Y', 'X', 'Z', 'Y', 'Y', 'Z', 'Z', 'Z', 'Z']\n",
    "x3 = ['Red', 'Blue', 'Green', 'Red', 'Green', 'Blue', 'Blue', 'Green']\n",
    "\n",
    "# Test 1\n",
    "print('Test 1 - Python')\n",
    "print(fdt(x1, sort=True, decreasing=True))\n",
    "\n",
    "# Test 2\n",
    "print('\\nTest 2 - Python')\n",
    "print(fdt(x2, sort=False, decreasing=False))\n",
    "\n",
    "# Test 3\n",
    "print('\\nTest 3 - Python')\n",
    "print(fdt(x3, sort=True, decreasing=False))\n"
   ]
  },
  {
   "cell_type": "markdown",
   "id": "0c42ebe0",
   "metadata": {},
   "source": [
    "### `make_fdt_cat_multiple`"
   ]
  },
  {
   "cell_type": "code",
   "execution_count": null,
   "id": "934e42f0",
   "metadata": {},
   "outputs": [],
   "source": [
    "# Test Data 1\n",
    "data = {\n",
    "    'col1': ['A', 'B', 'A', 'C', 'B', 'B', 'C', 'A', 'C', 'C'],\n",
    "    'col2': ['X', 'Y', 'X', 'Z', 'Y', 'Y', 'Z', 'Z', 'Z', 'Z']\n",
    "}\n",
    "\n",
    "df = pd.DataFrame(data)\n",
    "df['col1'] = df['col1'].astype('category')\n",
    "df['col2'] = df['col2'].astype('category')\n",
    "\n",
    "# Execute Test 1\n",
    "result = fdt(df, sort=True, decreasing=True)\n",
    "print(result)\n"
   ]
  },
  {
   "cell_type": "code",
   "execution_count": null,
   "id": "ff28cca8",
   "metadata": {},
   "outputs": [],
   "source": [
    "# Test Data 2\n",
    "data = {\n",
    "    'col1': ['Red', 'Blue', 'Red', 'Green', 'Blue', 'Blue', 'Green', 'Red', 'Green', 'Green'],\n",
    "    'col2': ['Dog', 'Cat', 'Dog', 'Bird', 'Cat', 'Cat', 'Bird', 'Bird', 'Bird', 'Bird'],\n",
    "    'col3': [1, 2, 3, 4, 5, 6, 7, 8, 9, 10]  # Non-categorical\n",
    "}\n",
    "\n",
    "df = pd.DataFrame(data)\n",
    "df['col1'] = df['col1'].astype('category')\n",
    "df['col2'] = df['col2'].astype('category')\n",
    "\n",
    "# Execute Test 2\n",
    "result = fdt(df, sort=False, decreasing=False)\n",
    "print(result)"
   ]
  },
  {
   "cell_type": "code",
   "execution_count": null,
   "id": "d15e5613",
   "metadata": {},
   "outputs": [],
   "source": [
    "# Test Data 3\n",
    "data = {\n",
    "    'col1': ['Apple', 'Apple', 'Banana', 'Banana', 'Banana', 'Grape', 'Grape', 'Apple', 'Apple', 'Grape'],\n",
    "    'col2': ['Small', 'Small', 'Large', 'Large', 'Large', 'Small', 'Small', 'Large', 'Large', 'Large'],\n",
    "    'col3': ['Low', 'Low', 'High', 'High', 'High', 'Medium', 'Medium', 'Low', 'Low', 'Medium']\n",
    "}\n",
    "\n",
    "df = pd.DataFrame(data)\n",
    "df['col1'] = df['col1'].astype('category')\n",
    "df['col2'] = df['col2'].astype('category')\n",
    "df['col3'] = df['col3'].astype('category')\n",
    "\n",
    "# Execute Test 3\n",
    "result = fdt(df, sort=True, decreasing=False)\n",
    "print(result)"
   ]
  }
 ],
 "metadata": {
  "kernelspec": {
   "display_name": "venv",
   "language": "python",
   "name": "python3"
  },
  "language_info": {
   "codemirror_mode": {
    "name": "ipython",
    "version": 3
   },
   "file_extension": ".py",
   "mimetype": "text/x-python",
   "name": "python",
   "nbconvert_exporter": "python",
   "pygments_lexer": "ipython3",
   "version": "3.13.5"
  }
 },
 "nbformat": 4,
 "nbformat_minor": 5
}
