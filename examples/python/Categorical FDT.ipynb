{
 "cells": [
  {
   "cell_type": "markdown",
   "id": "2c8bb068",
   "metadata": {},
   "source": [
    "### Imports"
   ]
  },
  {
   "cell_type": "code",
   "execution_count": 1,
   "id": "5f06b90a",
   "metadata": {},
   "outputs": [],
   "source": [
    "import numpy as np\n",
    "import pandas as pd\n",
    "from fdth import fdt"
   ]
  },
  {
   "cell_type": "markdown",
   "id": "b71ab76d",
   "metadata": {},
   "source": [
    "### `fdt`\n",
    "A função `fdt` calcula tabelas de distribuição de frequência para vetores ou DataFrames, considerando tanto dados categóricos quanto numéricos. Ela permite análise de frequência simples, com a opção de ordenação e agrupamento."
   ]
  },
  {
   "cell_type": "code",
   "execution_count": 2,
   "id": "f88426d6",
   "metadata": {},
   "outputs": [
    {
     "name": "stdout",
     "output_type": "stream",
     "text": [
      "Test 1\n",
      "CategoricalFDT (10 elements, 3 categories):\n",
      "Category  f  rf  rf(%)  cf  cf(%)\n",
      "       C  4 0.4   40.0   4   40.0\n",
      "       A  3 0.3   30.0   7   70.0\n",
      "       B  3 0.3   30.0  10  100.0\n",
      "\n",
      "Test 2\n",
      "CategoricalFDT (10 elements, 3 categories):\n",
      "Category  f  rf  rf(%)  cf  cf(%)\n",
      "       X  2 0.2   20.0   2   20.0\n",
      "       Y  3 0.3   30.0   5   50.0\n",
      "       Z  5 0.5   50.0  10  100.0\n",
      "\n",
      "Test 3\n",
      "CategoricalFDT (8 elements, 3 categories):\n",
      "Category  f   rf  rf(%)  cf  cf(%)\n",
      "     Red  2 0.25   25.0   2   25.0\n",
      "    Blue  3 0.38   37.5   5   62.5\n",
      "   Green  3 0.38   37.5   8  100.0\n"
     ]
    }
   ],
   "source": [
    "# Célula 2\n",
    "x1 = ['A', 'B', 'A', 'C', 'B', 'B', 'C', 'A', 'C', 'C']\n",
    "x2 = ['X', 'Y', 'X', 'Z', 'Y', 'Y', 'Z', 'Z', 'Z', 'Z']\n",
    "x3 = ['Red', 'Blue', 'Green', 'Red', 'Green', 'Blue', 'Blue', 'Green']\n",
    "\n",
    "# Test 1\n",
    "print('Test 1')\n",
    "print(fdt(x1, sort=True, decreasing=True))  # Ordena da maior p/ menor frequência\n",
    "\n",
    "# Test 2\n",
    "print('\\nTest 2')\n",
    "print(fdt(x2, sort=False, decreasing=False)) # Não ordena, mantém a ordem original\n",
    "\n",
    "# Test 3\n",
    "print('\\nTest 3')\n",
    "print(fdt(x3, sort=True, decreasing=False))  # Ordena alfabeticamente (crescente)"
   ]
  },
  {
   "cell_type": "markdown",
   "id": "0cb63de3",
   "metadata": {},
   "source": [
    "Essa função é usada para gerar tabelas de frequência para um DataFrame contendo dados categóricos. Ela permite a análise de distribuições de categorias nas colunas do DataFrame, com ou sem agrupamento, e possibilita a ordenação dos resultados."
   ]
  },
  {
   "cell_type": "code",
   "execution_count": 3,
   "id": "7ea0df2b",
   "metadata": {},
   "outputs": [
    {
     "name": "stdout",
     "output_type": "stream",
     "text": [
      "MultipleFDT (2 tables):\n",
      "\n",
      "col1: CategoricalFDT (5 elements, 3 categories):\n",
      "Category  f  rf  rf(%)  cf  cf(%)\n",
      "       A  2 0.4   40.0   2   40.0\n",
      "       C  2 0.4   40.0   4   80.0\n",
      "       B  1 0.2   20.0   5  100.0\n",
      "\n",
      "col2: CategoricalFDT (5 elements, 2 categories):\n",
      "Category  f  rf  rf(%)  cf  cf(%)\n",
      "       X  3 0.6   60.0   3   60.0\n",
      "       Y  2 0.4   40.0   5  100.0\n",
      "\n",
      "\n"
     ]
    }
   ],
   "source": [
    "# Célula 3\n",
    "# Test 1: Sem agrupamento\n",
    "# Verifica a geração de tabelas de frequência para um DataFrame com colunas categóricas,\n",
    "# sem considerar agrupamento. Ordena os resultados de forma decrescente.\n",
    "\n",
    "df1 = pd.DataFrame({\n",
    "    'col1': pd.Categorical(['A', 'B', 'A', 'C', 'C']),\n",
    "    'col2': pd.Categorical(['X', 'X', 'Y', 'X', 'Y'])\n",
    "})\n",
    "result1 = fdt(df1, sort=True, decreasing=True)\n",
    "print(result1)"
   ]
  },
  {
   "cell_type": "code",
   "execution_count": 4,
   "id": "e5986fde",
   "metadata": {},
   "outputs": [
    {
     "name": "stdout",
     "output_type": "stream",
     "text": [
      "MultipleFDT (3 tables):\n",
      "\n",
      "group: CategoricalFDT (5 elements, 2 categories):\n",
      "Category  f  rf  rf(%)  cf  cf(%)\n",
      "      G1  2 0.4   40.0   2   40.0\n",
      "      G2  3 0.6   60.0   5  100.0\n",
      "\n",
      "col1: CategoricalFDT (5 elements, 3 categories):\n",
      "Category  f  rf  rf(%)  cf  cf(%)\n",
      "       B  1 0.2   20.0   1   20.0\n",
      "       A  2 0.4   40.0   3   60.0\n",
      "       C  2 0.4   40.0   5  100.0\n",
      "\n",
      "col2: CategoricalFDT (5 elements, 2 categories):\n",
      "Category  f  rf  rf(%)  cf  cf(%)\n",
      "       Y  2 0.4   40.0   2   40.0\n",
      "       X  3 0.6   60.0   5  100.0\n",
      "\n",
      "\n"
     ]
    }
   ],
   "source": [
    "# Célula 4\n",
    "# Test 2: Com agrupamento\n",
    "# Avalia a funcionalidade da função ao agrupar os dados por uma coluna específica ('group'),\n",
    "# criando tabelas de frequência para as colunas categóricas dentro de cada grupo.\n",
    "# Ordena os resultados de forma crescente.\n",
    "\n",
    "df2 = pd.DataFrame({\n",
    "    'group': pd.Categorical(['G1', 'G1', 'G2', 'G2', 'G2']),\n",
    "    'col1': pd.Categorical(['A', 'B', 'A', 'C', 'C']),\n",
    "    'col2': pd.Categorical(['X', 'X', 'Y', 'X', 'Y'])\n",
    "})\n",
    "result2 = fdt(df2, sort=True, decreasing=False) # ordena os resultados em ordem crescente\n",
    "print(result2)"
   ]
  },
  {
   "cell_type": "code",
   "execution_count": 5,
   "id": "deaf246f",
   "metadata": {},
   "outputs": [
    {
     "name": "stdout",
     "output_type": "stream",
     "text": [
      "MultipleFDT (3 tables):\n",
      "\n",
      "col1: CategoricalFDT (5 elements, 3 categories):\n",
      "Category  f  rf  rf(%)  cf  cf(%)\n",
      "       B  1 0.2   20.0   1   20.0\n",
      "       A  2 0.4   40.0   3   60.0\n",
      "       C  2 0.4   40.0   5  100.0\n",
      "\n",
      "col2: CategoricalFDT (5 elements, 2 categories):\n",
      "Category  f  rf  rf(%)  cf  cf(%)\n",
      "       Y  2 0.4   40.0   2   40.0\n",
      "       X  3 0.6   60.0   5  100.0\n",
      "\n",
      "col3: NumericalFDT (5 elements, 4 classes, amplitude of 1.01):\n",
      "Class limits  f  rf  rf(%)  cf  cf(%)\n",
      " [0.99, 2.0)  2 0.4   40.0   2   40.0\n",
      " [2.0, 3.02)  1 0.2   20.0   3   60.0\n",
      "[3.02, 4.04)  1 0.2   20.0   4   80.0\n",
      "[4.04, 5.05)  1 0.2   20.0   5  100.0\n",
      "\n",
      "\n"
     ]
    }
   ],
   "source": [
    "# Célula 5\n",
    "# Test 3: Com coluna numérica\n",
    "# Testa a função em um DataFrame que contém colunas categóricas e uma coluna numérica.\n",
    "# Gera tabelas de frequência para todas as colunas.\n",
    "# Não realiza ordenação nas tabelas.\n",
    "\n",
    "df3 = pd.DataFrame({\n",
    "    'col1': pd.Categorical(['A', 'B', 'A', 'C', 'C']),\n",
    "    'col2': pd.Categorical(['X', 'X', 'Y', 'X', 'Y']),\n",
    "    'col3': [1, 2, 3, 4, 5]  # Numeric column\n",
    "})\n",
    "result3 = fdt(df3)\n",
    "print(result3)"
   ]
  },
  {
   "cell_type": "markdown",
   "id": "82a92594",
   "metadata": {},
   "source": [
    "Essa função gera tabelas de distribuição de frequência a partir de matrizes contendo dados categóricos. Ela oferece a capacidade de realizar a análise em várias colunas e de organizar os resultados de maneira ordenada."
   ]
  },
  {
   "cell_type": "code",
   "execution_count": 6,
   "id": "929660aa",
   "metadata": {},
   "outputs": [
    {
     "name": "stdout",
     "output_type": "stream",
     "text": [
      "MultipleFDT (3 tables):\n",
      "\n",
      "Col1: CategoricalFDT (4 elements, 3 categories):\n",
      "Category  f   rf  rf(%)  cf  cf(%)\n",
      "       A  2 0.50   50.0   2   50.0\n",
      "       B  1 0.25   25.0   3   75.0\n",
      "       C  1 0.25   25.0   4  100.0\n",
      "\n",
      "Col2: CategoricalFDT (4 elements, 2 categories):\n",
      "Category  f  rf  rf(%)  cf  cf(%)\n",
      "       A  2 0.5   50.0   2   50.0\n",
      "       B  2 0.5   50.0   4  100.0\n",
      "\n",
      "Col3: CategoricalFDT (4 elements, 2 categories):\n",
      "Category  f   rf  rf(%)  cf  cf(%)\n",
      "       C  3 0.75   75.0   3   75.0\n",
      "       B  1 0.25   25.0   4  100.0\n",
      "\n",
      "\n"
     ]
    }
   ],
   "source": [
    "# Célula 6\n",
    "# Test 1: Verifica a criação de tabelas de distribuição de frequência\n",
    "# para uma matriz de categorias distintas distribuídas igualmente\n",
    "# em várias colunas. Ordena os resultados em ordem decrescente.\n",
    "\n",
    "x = np.array([\n",
    "    ['A', 'B', 'C'],\n",
    "    ['A', 'B', 'C'],\n",
    "    ['B', 'A', 'C'],\n",
    "    ['C', 'A', 'B']\n",
    "])\n",
    "df = pd.DataFrame(x, columns=['Col1', 'Col2', 'Col3']) # Cria uma matriz com valores categóricos.\n",
    "res = fdt(df, sort=True, decreasing=True) # Ordena os resultados de forma decrescente\n",
    "print(res)"
   ]
  },
  {
   "cell_type": "code",
   "execution_count": 7,
   "id": "819ae74f",
   "metadata": {},
   "outputs": [
    {
     "name": "stdout",
     "output_type": "stream",
     "text": [
      "MultipleFDT (3 tables):\n",
      "\n",
      "Col1: CategoricalFDT (4 elements, 1 categories):\n",
      "Category  f  rf  rf(%)  cf  cf(%)\n",
      "       X  4 1.0  100.0   4  100.0\n",
      "\n",
      "Col2: CategoricalFDT (4 elements, 1 categories):\n",
      "Category  f  rf  rf(%)  cf  cf(%)\n",
      "       Y  4 1.0  100.0   4  100.0\n",
      "\n",
      "Col3: CategoricalFDT (4 elements, 1 categories):\n",
      "Category  f  rf  rf(%)  cf  cf(%)\n",
      "       Z  4 1.0  100.0   4  100.0\n",
      "\n",
      "\n"
     ]
    }
   ],
   "source": [
    "# Célula 7\n",
    "# Test 2: Testa a criação de tabelas de distribuição de frequência\n",
    "# para uma matriz com valores homogêneos (mesmas categorias em todas\n",
    "# as colunas e linhas). Ordena os resultados em ordem decrescente.\n",
    "\n",
    "x = np.array([\n",
    "    ['X', 'Y', 'Z'],\n",
    "    ['X', 'Y', 'Z'],\n",
    "    ['X', 'Y', 'Z'],\n",
    "    ['X', 'Y', 'Z']\n",
    "])\n",
    "df = pd.DataFrame(x, columns=['Col1', 'Col2', 'Col3'])\n",
    "res = fdt(df, sort=True, decreasing=True)\n",
    "print(res)"
   ]
  },
  {
   "cell_type": "code",
   "execution_count": 8,
   "id": "4e603d02",
   "metadata": {},
   "outputs": [
    {
     "name": "stdout",
     "output_type": "stream",
     "text": [
      "MultipleFDT (3 tables):\n",
      "\n",
      "Col1: CategoricalFDT (4 elements, 3 categories):\n",
      "Category  f   rf  rf(%)  cf  cf(%)\n",
      "     Cat  1 0.25   25.0   1   25.0\n",
      "    Fish  1 0.25   25.0   2   50.0\n",
      "     Dog  2 0.50   50.0   4  100.0\n",
      "\n",
      "Col2: CategoricalFDT (4 elements, 2 categories):\n",
      "Category  f  rf  rf(%)  cf  cf(%)\n",
      "     Cat  2 0.5   50.0   2   50.0\n",
      "     Dog  2 0.5   50.0   4  100.0\n",
      "\n",
      "Col3: CategoricalFDT (4 elements, 2 categories):\n",
      "Category  f  rf  rf(%)  cf  cf(%)\n",
      "    Bird  2 0.5   50.0   2   50.0\n",
      "    Fish  2 0.5   50.0   4  100.0\n",
      "\n",
      "\n"
     ]
    }
   ],
   "source": [
    "# Célula 8\n",
    "# Test 3: Avalia a criação de tabelas de frequência para uma matriz\n",
    "# com categorias variadas em cada coluna. Ordena os resultados em\n",
    "# ordem crescente.\n",
    "\n",
    "x = np.array([\n",
    "    ['Dog', 'Cat', 'Fish'],\n",
    "    ['Dog', 'Dog', 'Bird'],\n",
    "    ['Cat', 'Cat', 'Fish'],\n",
    "    ['Fish', 'Dog', 'Bird']\n",
    "])\n",
    "df = pd.DataFrame(x, columns=['Col1', 'Col2', 'Col3'])\n",
    "res = fdt(df, sort=True, decreasing=False)\n",
    "print(res)"
   ]
  },
  {
   "cell_type": "markdown",
   "id": "0c42ebe0",
   "metadata": {},
   "source": [
    "Essa função também permite criar múltiplas tabelas de frequência para conjuntos de dados categóricos. Ela é útil quando se deseja gerar distribuições de frequência para vários vetores ou séries de dados ao mesmo tempo, oferecendo flexibilidade para ajustes nos intervalos e agrupamentos."
   ]
  },
  {
   "cell_type": "code",
   "execution_count": 9,
   "id": "934e42f0",
   "metadata": {},
   "outputs": [
    {
     "name": "stdout",
     "output_type": "stream",
     "text": [
      "MultipleFDT (2 tables):\n",
      "\n",
      "col1: CategoricalFDT (10 elements, 3 categories):\n",
      "Category  f  rf  rf(%)  cf  cf(%)\n",
      "       C  4 0.4   40.0   4   40.0\n",
      "       A  3 0.3   30.0   7   70.0\n",
      "       B  3 0.3   30.0  10  100.0\n",
      "\n",
      "col2: CategoricalFDT (10 elements, 3 categories):\n",
      "Category  f  rf  rf(%)  cf  cf(%)\n",
      "       Z  5 0.5   50.0   5   50.0\n",
      "       Y  3 0.3   30.0   8   80.0\n",
      "       X  2 0.2   20.0  10  100.0\n",
      "\n",
      "\n"
     ]
    }
   ],
   "source": [
    "# Célula 9\n",
    "# Test Data 1\n",
    "data = {\n",
    "    'col1': ['A', 'B', 'A', 'C', 'B', 'B', 'C', 'A', 'C', 'C'],\n",
    "    'col2': ['X', 'Y', 'X', 'Z', 'Y', 'Y', 'Z', 'Z', 'Z', 'Z']\n",
    "}\n",
    "\n",
    "df = pd.DataFrame(data)\n",
    "df['col1'] = df['col1'].astype('category')\n",
    "df['col2'] = df['col2'].astype('category')\n",
    "\n",
    "# Execute Test 1\n",
    "result = fdt(df, sort=True, decreasing=True)\n",
    "print(result)\n"
   ]
  },
  {
   "cell_type": "code",
   "execution_count": 10,
   "id": "ff28cca8",
   "metadata": {},
   "outputs": [
    {
     "name": "stdout",
     "output_type": "stream",
     "text": [
      "MultipleFDT (3 tables):\n",
      "\n",
      "col1: CategoricalFDT (10 elements, 3 categories):\n",
      "Category  f  rf  rf(%)  cf  cf(%)\n",
      "    Blue  3 0.3   30.0   3   30.0\n",
      "     Red  3 0.3   30.0   6   60.0\n",
      "   Green  4 0.4   40.0  10  100.0\n",
      "\n",
      "col2: CategoricalFDT (10 elements, 3 categories):\n",
      "Category  f  rf  rf(%)  cf  cf(%)\n",
      "     Dog  2 0.2   20.0   2   20.0\n",
      "     Cat  3 0.3   30.0   5   50.0\n",
      "    Bird  5 0.5   50.0  10  100.0\n",
      "\n",
      "col3: NumericalFDT (10 elements, 5 classes, amplitude of 1.82):\n",
      "Class limits  f  rf  rf(%)  cf  cf(%)\n",
      "[0.99, 2.81)  2 0.2   20.0   2   20.0\n",
      "[2.81, 4.63)  2 0.2   20.0   4   40.0\n",
      "[4.63, 6.46)  2 0.2   20.0   6   60.0\n",
      "[6.46, 8.28)  2 0.2   20.0   8   80.0\n",
      "[8.28, 10.1)  2 0.2   20.0  10  100.0\n",
      "\n",
      "\n"
     ]
    }
   ],
   "source": [
    "# Célula 10\n",
    "# Test Data 2\n",
    "data = {\n",
    "    'col1': ['Red', 'Blue', 'Red', 'Green', 'Blue', 'Blue', 'Green', 'Red', 'Green', 'Green'],\n",
    "    'col2': ['Dog', 'Cat', 'Dog', 'Bird', 'Cat', 'Cat', 'Bird', 'Bird', 'Bird', 'Bird'],\n",
    "    'col3': [1, 2, 3, 4, 5, 6, 7, 8, 9, 10]  # Non-categorical\n",
    "}\n",
    "\n",
    "df = pd.DataFrame(data)\n",
    "df['col1'] = df['col1'].astype('category')\n",
    "df['col2'] = df['col2'].astype('category')\n",
    "\n",
    "# Execute Test 2\n",
    "result = fdt(df) # Calcula a distribuição de frequência sem ordenação\n",
    "print(result)"
   ]
  },
  {
   "cell_type": "code",
   "execution_count": 11,
   "id": "d15e5613",
   "metadata": {},
   "outputs": [
    {
     "name": "stdout",
     "output_type": "stream",
     "text": [
      "MultipleFDT (3 tables):\n",
      "\n",
      "col1: CategoricalFDT (10 elements, 3 categories):\n",
      "Category  f  rf  rf(%)  cf  cf(%)\n",
      "  Banana  3 0.3   30.0   3   30.0\n",
      "   Grape  3 0.3   30.0   6   60.0\n",
      "   Apple  4 0.4   40.0  10  100.0\n",
      "\n",
      "col2: CategoricalFDT (10 elements, 2 categories):\n",
      "Category  f  rf  rf(%)  cf  cf(%)\n",
      "   Small  4 0.4   40.0   4   40.0\n",
      "   Large  6 0.6   60.0  10  100.0\n",
      "\n",
      "col3: CategoricalFDT (10 elements, 3 categories):\n",
      "Category  f  rf  rf(%)  cf  cf(%)\n",
      "    High  3 0.3   30.0   3   30.0\n",
      "  Medium  3 0.3   30.0   6   60.0\n",
      "     Low  4 0.4   40.0  10  100.0\n",
      "\n",
      "\n"
     ]
    }
   ],
   "source": [
    "# Célula 11\n",
    "# Test Data 3\n",
    "data = {\n",
    "    'col1': ['Apple', 'Apple', 'Banana', 'Banana', 'Banana', 'Grape', 'Grape', 'Apple', 'Apple', 'Grape'],\n",
    "    'col2': ['Small', 'Small', 'Large', 'Large', 'Large', 'Small', 'Small', 'Large', 'Large', 'Large'],\n",
    "    'col3': ['Low', 'Low', 'High', 'High', 'High', 'Medium', 'Medium', 'Low', 'Low', 'Medium']\n",
    "}\n",
    "\n",
    "df = pd.DataFrame(data)\n",
    "df['col1'] = df['col1'].astype('category')\n",
    "df['col2'] = df['col2'].astype('category')\n",
    "df['col3'] = df['col3'].astype('category')\n",
    "\n",
    "# Execute Test 3\n",
    "result = fdt(df, sort=True, decreasing=False)\n",
    "print(result)"
   ]
  }
 ],
 "metadata": {
  "kernelspec": {
   "display_name": ".venv (3.13.3)",
   "language": "python",
   "name": "python3"
  },
  "language_info": {
   "codemirror_mode": {
    "name": "ipython",
    "version": 3
   },
   "file_extension": ".py",
   "mimetype": "text/x-python",
   "name": "python",
   "nbconvert_exporter": "python",
   "pygments_lexer": "ipython3",
   "version": "3.13.3"
  }
 },
 "nbformat": 4,
 "nbformat_minor": 5
}
