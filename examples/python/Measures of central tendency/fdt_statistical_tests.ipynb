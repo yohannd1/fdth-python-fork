{
 "cells": [
  {
   "cell_type": "markdown",
   "id": "33b508f3",
   "metadata": {},
   "source": [
    "### Imports"
   ]
  },
  {
   "cell_type": "code",
   "execution_count": null,
   "id": "bbf7dac8",
   "metadata": {},
   "outputs": [],
   "source": [
    "import numpy as np\n",
    "from fdth.mean import mean_fdt\n",
    "from fdth.fdt_default import fdt_default\n",
    "from fdth.median_fdt import median_fdt\n",
    "from fdth.mfv_default import mfv_default"
   ]
  },
  {
   "cell_type": "markdown",
   "metadata": {},
   "source": [
    "# FDT Mean, Median, and Mode Testing\n",
    "Este caderno demonstra o uso das funções FDT para calcular a média, a mediana e a moda a partir de tabelas de distribuição de frequência e séries de dados padrão.\n",
    "Exploraremos diferentes exemplos para diversos casos de uso, incluindo cálculos de média, mediana e moda."
   ]
  },
  {
   "cell_type": "markdown",
   "id": "b90bb060",
   "metadata": {},
   "source": [
    "### FDT Mean Testing\n",
    "Esta seção demonstra o cálculo da média usando a função `mean_fdt`."
   ]
  },
  {
   "cell_type": "code",
   "execution_count": null,
   "id": "58820967",
   "metadata": {},
   "outputs": [],
   "source": [
    "# Dados para o 1° teste\n",
    "data_test1 = {\n",
    "    'breaks': {'start': 0, 'end': 10, 'h': 2},\n",
    "    'table': np.array([\n",
    "        [0, 2],\n",
    "        [2, 2],\n",
    "        [4, 2],\n",
    "        [6, 2],\n",
    "        [8, 2]\n",
    "    ])\n",
    "}\n",
    "\n",
    "# Executando o teste\n",
    "print('Teste 1:', mean_fdt(data_test1))"
   ]
  },
  {
   "cell_type": "code",
   "execution_count": null,
   "id": "69d5be83",
   "metadata": {},
   "outputs": [],
   "source": [
    "# Dados para o 2° teste\n",
    "data_test2 = {\n",
    "    'breaks': {'start': 0, 'end': 12, 'h': 3},\n",
    "    'table': np.array([\n",
    "        [0, 1],\n",
    "        [3, 2],\n",
    "        [6, 3],\n",
    "        [9, 4]\n",
    "    ])\n",
    "}\n",
    "\n",
    "# Executando o teste\n",
    "print('Teste 2:', mean_fdt(data_test2))"
   ]
  },
  {
   "cell_type": "code",
   "execution_count": null,
   "id": "8f0c12ed",
   "metadata": {},
   "outputs": [],
   "source": [
    "# Dados para o 3° teste\n",
    "data_test3 = {\n",
    "    'breaks': {'start': 0, 'end': 16, 'h': 4},\n",
    "    'table': np.array([\n",
    "        [0, 8],\n",
    "        [4, 6],\n",
    "        [8, 4],\n",
    "        [12, 2]\n",
    "    ])\n",
    "}\n",
    "\n",
    "# Executando o teste\n",
    "print('Teste 3:', mean_fdt(data_test3))"
   ]
  },
  {
   "cell_type": "code",
   "execution_count": null,
   "id": "0a805854",
   "metadata": {},
   "outputs": [],
   "source": [
    "# Dados para o 4° teste\n",
    "data_test4 = {\n",
    "    'breaks': {'start': 0, 'end': 20, 'h': 5},\n",
    "    'table': np.array([\n",
    "        [0, 3],\n",
    "        [5, 7],\n",
    "        [10, 5],\n",
    "        [15, 2]\n",
    "    ])\n",
    "}\n",
    "\n",
    "# Executando o teste\n",
    "print('Teste 4:', mean_fdt(data_test4))"
   ]
  },
  {
   "cell_type": "markdown",
   "metadata": {},
   "source": [
    "### FDT Median Testing\n",
    "Esta seção demonstra o cálculo da mediana a partir de tabelas de distribuição de frequência usando a função `median_fdt`."
   ]
  },
  {
   "cell_type": "code",
   "execution_count": null,
   "metadata": {},
   "outputs": [],
   "source": [
    "\n",
    "# Dados de exemplo\n",
    "dados = [10, 12, 15, 20, 22, 25, 25, 30, 35, 40]\n",
    "\n",
    "# Criar uma tabela de frequências agrupada (fdt)\n",
    "tabela_fdt = fdt_default(dados)\n",
    "\n",
    "# Visualizar o resultado\n",
    "print(tabela_fdt['table'])\n",
    "\n",
    "# Calcular a mediana\n",
    "mediana = median_fdt(tabela_fdt)\n",
    "print('A mediana é:', mediana)\n"
   ]
  },
  {
   "cell_type": "markdown",
   "metadata": {},
   "source": [
    "### FDT Mode Testing\n",
    "Esta seção demonstra o cálculo do modo usando a função `mfv_default`. Exploraremos vários casos com diferentes padrões de dados."
   ]
  },
  {
   "cell_type": "code",
   "execution_count": null,
   "metadata": {},
   "outputs": [],
   "source": [
    "\n",
    "# Conjunto de dados com uma única moda\n",
    "data1 = [1, 2, 2, 3, 4]\n",
    "print('A moda de data1 é:', mfv_default(data1))\n"
   ]
  },
  {
   "cell_type": "code",
   "execution_count": null,
   "id": "c28b40ee",
   "metadata": {},
   "outputs": [],
   "source": [
    "\n",
    "# Conjunto de dados com múltiplas modas\n",
    "data2 = [1, 1, 2, 2, 3]\n",
    "print('A moda de data2 é:', mfv_default(data2))\n"
   ]
  },
  {
   "cell_type": "code",
   "execution_count": null,
   "id": "37516a77",
   "metadata": {},
   "outputs": [],
   "source": [
    "\n",
    "# Conjunto de dados onde todos os valores são únicos\n",
    "data3 = [1, 2, 3, 4, 5]\n",
    "print('A moda de data3 é:', mfv_default(data3))\n"
   ]
  },
  {
   "cell_type": "code",
   "execution_count": null,
   "id": "2a855b70",
   "metadata": {},
   "outputs": [],
   "source": [
    "\n",
    "# Conjunto de dados onde todos os valores são iguais\n",
    "data4 = [2, 2, 2, 2, 2]\n",
    "print('A moda de data4 é:', mfv_default(data4))\n"
   ]
  },
  {
   "cell_type": "code",
   "execution_count": null,
   "id": "556738cf",
   "metadata": {},
   "outputs": [],
   "source": [
    "\n",
    "# Conjunto de dados vazio\n",
    "data5 = []\n",
    "print('A moda de data5 é:', mfv_default(data5))\n"
   ]
  },
  {
   "cell_type": "code",
   "execution_count": null,
   "id": "602d0ed3",
   "metadata": {},
   "outputs": [],
   "source": [
    "\n",
    "# Conjunto de dados com valores não numéricos\n",
    "data6 = ['a', 'b', 'b', 'c']\n",
    "print('A moda de data6 é:', mfv_default(data6))\n"
   ]
  }
 ],
 "metadata": {
  "language_info": {
   "name": "python"
  }
 },
 "nbformat": 4,
 "nbformat_minor": 5
}
