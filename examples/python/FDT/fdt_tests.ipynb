{
 "cells": [
  {
   "cell_type": "markdown",
   "id": "e93cf8c0",
   "metadata": {},
   "source": [
    "### Imports"
   ]
  },
  {
   "cell_type": "code",
   "execution_count": null,
   "id": "0065802a",
   "metadata": {},
   "outputs": [],
   "source": [
    "import pandas as pd\n",
    "import numpy as np\n",
    "from fdth import fdt, Binning"
   ]
  },
  {
   "cell_type": "markdown",
   "metadata": {},
   "source": [
    "# FDT Function Testing\n",
    "Este caderno demonstra o uso das funções FDT para gerar tabelas de distribuição de frequência e sumarizar dados em diferentes formatos.\n",
    "Exploraremos diferentes exemplos para diversos casos de uso, incluindo quadros de dados, matrizes e séries de dados personalizadas."
   ]
  },
  {
   "cell_type": "markdown",
   "metadata": {},
   "source": [
    "### FDT Default Testing\n",
    "Os testes a seguir demonstram como usar a função `fdt`, incluindo diferentes métodos de cálculo de classes, como Freedman-Diaconis, Sturges e intervalos fixos."
   ]
  },
  {
   "cell_type": "code",
   "execution_count": null,
   "metadata": {},
   "outputs": [],
   "source": [
    "# Test 1\n",
    "# Testa o método de cálculo de classes usando a regra de Freedman-Diaconis ('FD').\n",
    "dados = np.array([2, 5, 7, 10, 12, 15, 18])\n",
    "resultado = fdt(dados, binning=Binning.from_fd)\n",
    "print(resultado)"
   ]
  },
  {
   "cell_type": "code",
   "execution_count": null,
   "id": "eff17556",
   "metadata": {},
   "outputs": [],
   "source": [
    "# Teste 2\n",
    "# Testa a criação de uma tabela de frequência definindo um número fixo de classes (k=4).\n",
    "dados = np.array([3, 6, 9, 12, 15, 18, 21])\n",
    "resultado = fdt(dados, binning=Binning.auto(k=4))\n",
    "print(resultado)"
   ]
  },
  {
   "cell_type": "code",
   "execution_count": null,
   "id": "271f0a01",
   "metadata": {},
   "outputs": [],
   "source": [
    "# Teste 3\n",
    "# Testa o uso de valores iniciais (start) e finais (end) personalizados para a tabela.\n",
    "dados = np.array([1, 4, 7, 10, 13, 16, 19])\n",
    "resultado = fdt(dados, binning=Binning.auto(start=0, end=20))\n",
    "print(resultado)"
   ]
  },
  {
   "cell_type": "code",
   "execution_count": null,
   "id": "ab65c155",
   "metadata": {},
   "outputs": [],
   "source": [
    "# Teste 4\n",
    "# Testa a especificação de um intervalo fixo (h=8) para as classes, com limites iniciais e finais definidos.\n",
    "dados = np.array([10, 15, 20, 25, 30, 35, 40])\n",
    "resultado = fdt(dados, binning=Binning.auto(start=10, end=50, h=8))\n",
    "print(resultado)"
   ]
  },
  {
   "cell_type": "code",
   "execution_count": null,
   "id": "b349a828",
   "metadata": {},
   "outputs": [],
   "source": [
    "# Teste 5\n",
    "# Testa o comportamento da função ao encontrar valores ausentes (None) no array, com remove_nan=False.\n",
    "try:\n",
    "    dados = np.array([2, None, 8, 10, None, 18])\n",
    "    resultado = fdt(dados, kind=\"numerical\", remove_nan=False)\n",
    "except ValueError as e:\n",
    "    print('Erro:', e)"
   ]
  },
  {
   "cell_type": "code",
   "execution_count": null,
   "id": "1316acde",
   "metadata": {},
   "outputs": [],
   "source": [
    "# Teste 6\n",
    "# Testa se a função detecta inconsistências nos parâmetros (k e h definidos simultaneamente).\n",
    "try:\n",
    "    dados = np.array([1, 2, 3, 4])\n",
    "    resultado = fdt(dados, binning=Binning.auto(start=1, end=5, k=2, h=1))\n",
    "except ValueError as e:\n",
    "    print('Erro:', e)"
   ]
  },
  {
   "cell_type": "markdown",
   "metadata": {},
   "source": [
    "### FDT Matrix Testing\n",
    "Os exemplos a seguir mostram o uso de `fdt`, que calcula tabelas de distribuição de frequência a partir de matrizes usando diferentes métodos de cálculo de classe."
   ]
  },
  {
   "cell_type": "code",
   "execution_count": null,
   "metadata": {},
   "outputs": [],
   "source": [
    "# Matriz de entrada para teste\n",
    "data_matrix = np.array([\n",
    "    [1, 10],\n",
    "    [2, 20],\n",
    "    [3, 30],\n",
    "    [4, 40],\n",
    "    [5, 50]\n",
    "])\n",
    "# Teste com um número especificado de classes\n",
    "result_k3 = fdt(data_matrix, binning=Binning.auto(k=3))\n",
    "print(result_k3)"
   ]
  },
  {
   "cell_type": "markdown",
   "metadata": {},
   "source": [
    "### FDT Multiple Testing\n",
    "Esta seção testa a função `fdt` que manipula múltiplas séries de dados e calcula a tabela de distribuição de frequência."
   ]
  },
  {
   "cell_type": "code",
   "execution_count": null,
   "metadata": {},
   "outputs": [],
   "source": [
    "# Teste 1\n",
    "x_uniform = pd.Series([10, 15, 20, 25, 30, 35, 40])\n",
    "result_uniform_python = fdt(\n",
    "    data=x_uniform,\n",
    "    binning=Binning.from_sturges,\n",
    "    right=False,\n",
    "    remove_nan=True\n",
    ")\n",
    "print(result_uniform_python)\n",
    "print(result_uniform_python.binning)"
   ]
  },
  {
   "cell_type": "code",
   "execution_count": null,
   "id": "88d79301",
   "metadata": {},
   "outputs": [],
   "source": [
    "# Test 1: A simple DataFrame with a single numeric column\n",
    "df1 = pd.DataFrame({\n",
    "    'A': [1, 2, 2, 3, 3, 3, 4, 4, 4, 4]\n",
    "})\n",
    "result1 = fdt(df1)\n",
    "print(result1)"
   ]
  },
  {
   "cell_type": "code",
   "execution_count": null,
   "id": "245fe45b",
   "metadata": {},
   "outputs": [],
   "source": [
    "# Test 2: A DataFrame with two numeric columns\n",
    "df2 = pd.DataFrame({\n",
    "    'A': [1, 2, 3, 4, 5, 6, 7, 8, 9, 10],\n",
    "    'B': [10, 9, 8, 7, 6, 5, 4, 3, 2, 1]\n",
    "})\n",
    "print('\\nTest 2 (without grouping):')\n",
    "result2 = fdt(df2)\n",
    "print(result2)"
   ]
  },
  {
   "cell_type": "markdown",
   "metadata": {},
   "source": [
    "### FDT Simple Testing\n",
    "A função `fdt` nos permite calcular uma tabela de distribuição de frequência para intervalos simples."
   ]
  },
  {
   "cell_type": "code",
   "execution_count": null,
   "metadata": {},
   "outputs": [],
   "source": [
    "# Teste 1: Intervalos básicos\n",
    "x = np.array([5, 10, 15, 20, 25, 30, 35])\n",
    "start = 0\n",
    "end = 40\n",
    "h = 10\n",
    "print('Test 1 - Basic intervals')\n",
    "print(fdt(x, binning=Binning.auto(start=start, end=end, h=h)))"
   ]
  },
  {
   "cell_type": "markdown",
   "metadata": {},
   "source": [
    "### FDT Default Printing and Summarization\n",
    "Nesta seção, exploramos como usar `.to_string()` para formatar e resumir tabelas de distribuição de frequência geradas por `fdt`."
   ]
  },
  {
   "cell_type": "code",
   "execution_count": null,
   "metadata": {},
   "outputs": [],
   "source": [
    "# Vetor inicial\n",
    "x = [6.34, 4.57, 7.89, 5.12, 4.26, 5.77, 2.95, 8.13, 3.48, 6.05,\n",
    "     4.93, 6.88, 7.21, 3.69, 5.55, 2.87, 5.02, 4.31, 6.79, 3.98,\n",
    "     7.44, 5.36, 6.12, 4.59, 8.27, 3.65, 5.48, 7.81, 3.93, 5.67]\n",
    "\n",
    "# Gera uma tdf\n",
    "tdf_x = fdt(x, binning=Binning.from_sturges)\n",
    "\n",
    "# Faz a sumarização e formatação de duas maneiras diferentes\n",
    "print('Exemplo com seleção de colunas e nome de colunas')\n",
    "print(tdf_x.to_string(columns=['Class limits', 'f', 'rf'], round=2))"
   ]
  }
 ],
 "metadata": {
  "kernelspec": {
   "display_name": "venv",
   "language": "python",
   "name": "python3"
  },
  "language_info": {
   "codemirror_mode": {
    "name": "ipython",
    "version": 3
   },
   "file_extension": ".py",
   "mimetype": "text/x-python",
   "name": "python",
   "nbconvert_exporter": "python",
   "pygments_lexer": "ipython3",
   "version": "3.13.5"
  }
 },
 "nbformat": 4,
 "nbformat_minor": 5
}
