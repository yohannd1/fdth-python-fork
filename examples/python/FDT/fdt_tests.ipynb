{
 "cells": [
  {
   "cell_type": "markdown",
   "id": "e93cf8c0",
   "metadata": {},
   "source": [
    "### Imports"
   ]
  },
  {
   "cell_type": "code",
   "execution_count": 1,
   "id": "0065802a",
   "metadata": {},
   "outputs": [],
   "source": [
    "import pandas as pd\n",
    "import numpy as np\n",
    "from fdth import fdt"
   ]
  },
  {
   "cell_type": "markdown",
   "metadata": {},
   "source": [
    "# FDT Function Testing\n",
    "Este caderno demonstra o uso das funções FDT para gerar tabelas de distribuição de frequência e sumarizar dados em diferentes formatos.\n",
    "Exploraremos diferentes exemplos para diversos casos de uso, incluindo quadros de dados, matrizes e séries de dados personalizadas."
   ]
  },
  {
   "cell_type": "code",
   "execution_count": 3,
   "id": "a323ba9e",
   "metadata": {},
   "outputs": [
    {
     "name": "stdout",
     "output_type": "stream",
     "text": [
      "MultipleFDT (1 tables):\n",
      "\n",
      "A: NumericalFDT (10 elements, 5 classes, amplitude of 0.61):\n",
      "Class limits  f  rf  rf(%)  cf  cf(%)\n",
      " [0.99, 1.6)  1 0.1   10.0   1   10.0\n",
      " [1.6, 2.21)  2 0.2   20.0   3   30.0\n",
      "[2.21, 2.82)  0 0.0    0.0   3   30.0\n",
      "[2.82, 3.43)  3 0.3   30.0   6   60.0\n",
      "[3.43, 4.04)  4 0.4   40.0  10  100.0\n",
      "... 5 more lines\n",
      "\n",
      "\n"
     ]
    }
   ],
   "source": [
    "# Test 1: A simple DataFrame with a single numeric column\n",
    "df1 = pd.DataFrame({\n",
    "    'A': [1, 2, 2, 3, 3, 3, 4, 4, 4, 4]\n",
    "})\n",
    "result1 = fdt(df1)\n",
    "print(result1)"
   ]
  },
  {
   "cell_type": "code",
   "execution_count": 4,
   "id": "09b5f8db",
   "metadata": {},
   "outputs": [
    {
     "name": "stdout",
     "output_type": "stream",
     "text": [
      "\n",
      "Test 2 (without grouping):\n",
      "MultipleFDT (2 tables):\n",
      "\n",
      "A: NumericalFDT (10 elements, 5 classes, amplitude of 1.82):\n",
      "Class limits  f  rf  rf(%)  cf  cf(%)\n",
      "[0.99, 2.81)  2 0.2   20.0   2   20.0\n",
      "[2.81, 4.63)  2 0.2   20.0   4   40.0\n",
      "[4.63, 6.46)  2 0.2   20.0   6   60.0\n",
      "[6.46, 8.28)  2 0.2   20.0   8   80.0\n",
      "[8.28, 10.1)  2 0.2   20.0  10  100.0\n",
      "... 5 more lines\n",
      "\n",
      "B: NumericalFDT (10 elements, 5 classes, amplitude of 1.82):\n",
      "Class limits  f  rf  rf(%)  cf  cf(%)\n",
      "[0.99, 2.81)  2 0.2   20.0   2   20.0\n",
      "[2.81, 4.63)  2 0.2   20.0   4   40.0\n",
      "[4.63, 6.46)  2 0.2   20.0   6   60.0\n",
      "[6.46, 8.28)  2 0.2   20.0   8   80.0\n",
      "[8.28, 10.1)  2 0.2   20.0  10  100.0\n",
      "... 5 more lines\n",
      "\n",
      "\n"
     ]
    }
   ],
   "source": [
    "\n",
    "# Test 2: A DataFrame with two numeric columns\n",
    "df2 = pd.DataFrame({\n",
    "    'A': [1, 2, 3, 4, 5, 6, 7, 8, 9, 10],\n",
    "    'B': [10, 9, 8, 7, 6, 5, 4, 3, 2, 1]\n",
    "})\n",
    "print('\\nTest 2 (without grouping):')\n",
    "result2 = fdt(df2)\n",
    "print(result2)"
   ]
  },
  {
   "cell_type": "code",
   "execution_count": 5,
   "id": "ae1eb17c",
   "metadata": {},
   "outputs": [
    {
     "name": "stdout",
     "output_type": "stream",
     "text": [
      "MultipleFDT (3 tables):\n",
      "\n",
      "A: NumericalFDT (10 elements, 5 classes, amplitude of 0.61):\n",
      "Class limits  f  rf  rf(%)  cf  cf(%)\n",
      " [0.99, 1.6)  1 0.1   10.0   1   10.0\n",
      " [1.6, 2.21)  2 0.2   20.0   3   30.0\n",
      "[2.21, 2.82)  0 0.0    0.0   3   30.0\n",
      "[2.82, 3.43)  3 0.3   30.0   6   60.0\n",
      "[3.43, 4.04)  4 0.4   40.0  10  100.0\n",
      "... 5 more lines\n",
      "\n",
      "B: NumericalFDT (10 elements, 5 classes, amplitude of 6.10):\n",
      "Class limits  f  rf  rf(%)  cf  cf(%)\n",
      " [9.9, 16.0)  1 0.1   10.0   1   10.0\n",
      "[16.0, 22.1)  2 0.2   20.0   3   30.0\n",
      "[22.1, 28.2)  0 0.0    0.0   3   30.0\n",
      "[28.2, 34.3)  3 0.3   30.0   6   60.0\n",
      "[34.3, 40.4)  4 0.4   40.0  10  100.0\n",
      "... 5 more lines\n",
      "\n",
      "Group: CategoricalFDT (10 elements, 2 categories):\n",
      "Category  f  rf  rf(%)  cf  cf(%)\n",
      "      G1  4 0.4   40.0   4   40.0\n",
      "      G2  6 0.6   60.0  10  100.0\n",
      "... 5 more lines\n",
      "\n",
      "\n"
     ]
    }
   ],
   "source": [
    "# Test 3: DataFrame with grouping\n",
    "df3 = pd.DataFrame({\n",
    "    'A': [1, 2, 2, 3, 3, 3, 4, 4, 4, 4],\n",
    "    'B': [10, 20, 20, 30, 30, 30, 40, 40, 40, 40],\n",
    "    'Group': ['G1', 'G1', 'G1', 'G1', 'G2', 'G2', 'G2', 'G2', 'G2', 'G2']\n",
    "})\n",
    "result3 = fdt(df3, by='Group')\n",
    "print(result3)"
   ]
  },
  {
   "cell_type": "markdown",
   "metadata": {},
   "source": [
    "### FDT Default Testing\n",
    "Os testes a seguir demonstram como usar a função `fdt`, incluindo diferentes métodos de cálculo de classes, como Freedman-Diaconis, Sturges e intervalos fixos."
   ]
  },
  {
   "cell_type": "code",
   "execution_count": 7,
   "metadata": {},
   "outputs": [
    {
     "name": "stdout",
     "output_type": "stream",
     "text": [
      "NumericalFDT (7 elements, 4 classes, amplitude of 4.05):\n",
      "  Class limits  f   rf  rf(%)  cf  cf(%)\n",
      "  [1.98, 6.03)  2 0.29  28.57   2  28.57\n",
      " [6.03, 10.08)  2 0.29  28.57   4  57.14\n",
      "[10.08, 14.13)  1 0.14  14.29   5  71.43\n",
      "[14.13, 18.18)  2 0.29  28.57   7 100.00\n",
      "... 2 more lines\n"
     ]
    }
   ],
   "source": [
    "# Test 1\n",
    "# Testa o método de cálculo de classes usando a regra de Freedman-Diaconis ('FD').\n",
    "dados = np.array([2, 5, 7, 10, 12, 15, 18])\n",
    "resultado = fdt(dados, breaks='Sturges')\n",
    "print(resultado)"
   ]
  },
  {
   "cell_type": "code",
   "execution_count": 8,
   "id": "eff17556",
   "metadata": {},
   "outputs": [
    {
     "name": "stdout",
     "output_type": "stream",
     "text": [
      "NumericalFDT (7 elements, 4 classes, amplitude of 4.56):\n",
      "  Class limits  f   rf  rf(%)  cf  cf(%)\n",
      "  [2.97, 7.53)  2 0.29  28.57   2  28.57\n",
      " [7.53, 12.09)  2 0.29  28.57   4  57.14\n",
      "[12.09, 16.65)  1 0.14  14.29   5  71.43\n",
      "[16.65, 21.21)  2 0.29  28.57   7 100.00\n",
      "... 2 more lines\n"
     ]
    }
   ],
   "source": [
    "# Teste 2\n",
    "# Testa a criação de uma tabela de frequência definindo um número fixo de classes (k=4).\n",
    "dados = np.array([3, 6, 9, 12, 15, 18, 21])\n",
    "resultado = fdt(dados, k=4)\n",
    "print(resultado)"
   ]
  },
  {
   "cell_type": "code",
   "execution_count": 10,
   "id": "271f0a01",
   "metadata": {},
   "outputs": [
    {
     "name": "stdout",
     "output_type": "stream",
     "text": [
      "NumericalFDT (7 elements, 5 classes, amplitude of 4.00):\n",
      "Class limits  f   rf  rf(%)  cf  cf(%)\n",
      "  [0.0, 4.0)  1 0.14  14.29   1  14.29\n",
      "  [4.0, 8.0)  2 0.29  28.57   3  42.86\n",
      " [8.0, 12.0)  1 0.14  14.29   4  57.14\n",
      "[12.0, 16.0)  1 0.14  14.29   5  71.43\n",
      "[16.0, 20.0)  2 0.29  28.57   7 100.00\n",
      "... 2 more lines\n"
     ]
    }
   ],
   "source": [
    "# Teste 3\n",
    "# Testa o uso de valores iniciais (start) e finais (end) personalizados para a tabela.\n",
    "dados = np.array([1, 4, 7, 10, 13, 16, 19])\n",
    "resultado = fdt(dados, start=0, end=20)\n",
    "print(resultado)"
   ]
  },
  {
   "cell_type": "code",
   "execution_count": 9,
   "id": "ab65c155",
   "metadata": {},
   "outputs": [
    {
     "name": "stdout",
     "output_type": "stream",
     "text": [
      "NumericalFDT (7 elements, None classes, amplitude of 8.00):\n",
      "Class limits  f   rf  rf(%)  cf  cf(%)\n",
      "    [10, 18)  2 0.29  28.57   2  28.57\n",
      "    [18, 26)  2 0.29  28.57   4  57.14\n",
      "    [26, 34)  1 0.14  14.29   5  71.43\n",
      "    [34, 42)  2 0.29  28.57   7 100.00\n",
      "    [42, 50)  0 0.00   0.00   7 100.00\n",
      "... 2 more lines\n"
     ]
    }
   ],
   "source": [
    "# Teste 4\n",
    "# Testa a especificação de um intervalo fixo (h=8) para as classes, com limites iniciais e finais definidos.\n",
    "dados = np.array([10, 15, 20, 25, 30, 35, 40])\n",
    "resultado = fdt(dados, start=10, end=50, h=8)\n",
    "print(resultado)"
   ]
  },
  {
   "cell_type": "code",
   "execution_count": 31,
   "id": "b349a828",
   "metadata": {},
   "outputs": [
    {
     "ename": "TypeError",
     "evalue": "CategoricalFDT.__init__() got an unexpected keyword argument 'na_rm'",
     "output_type": "error",
     "traceback": [
      "\u001b[31m---------------------------------------------------------------------------\u001b[39m",
      "\u001b[31mTypeError\u001b[39m                                 Traceback (most recent call last)",
      "\u001b[36mCell\u001b[39m\u001b[36m \u001b[39m\u001b[32mIn[31]\u001b[39m\u001b[32m, line 5\u001b[39m\n\u001b[32m      3\u001b[39m \u001b[38;5;28;01mtry\u001b[39;00m:\n\u001b[32m      4\u001b[39m     dados = np.array([\u001b[32m2\u001b[39m, \u001b[38;5;28;01mNone\u001b[39;00m, \u001b[32m8\u001b[39m, \u001b[32m10\u001b[39m, \u001b[38;5;28;01mNone\u001b[39;00m, \u001b[32m18\u001b[39m])\n\u001b[32m----> \u001b[39m\u001b[32m5\u001b[39m     resultado = \u001b[43mfdt\u001b[49m\u001b[43m(\u001b[49m\u001b[43mdados\u001b[49m\u001b[43m,\u001b[49m\u001b[43m \u001b[49m\u001b[43mna_rm\u001b[49m\u001b[43m=\u001b[49m\u001b[38;5;28;43;01mFalse\u001b[39;49;00m\u001b[43m)\u001b[49m\n\u001b[32m      6\u001b[39m \u001b[38;5;28;01mexcept\u001b[39;00m \u001b[38;5;167;01mValueError\u001b[39;00m \u001b[38;5;28;01mas\u001b[39;00m e:\n\u001b[32m      7\u001b[39m     \u001b[38;5;28mprint\u001b[39m(\u001b[33m'\u001b[39m\u001b[33mErro:\u001b[39m\u001b[33m'\u001b[39m, e)\n",
      "\u001b[36mFile \u001b[39m\u001b[32mC:\\workspace\\GitHub\\fdth-python-fork\\fdth\\auto_fdt.py:68\u001b[39m, in \u001b[36mfdt\u001b[39m\u001b[34m(data, kind, **kwargs)\u001b[39m\n\u001b[32m     66\u001b[39m kind = kind \u001b[38;5;129;01mor\u001b[39;00m deduce_fdt_kind(data_series)\n\u001b[32m     67\u001b[39m \u001b[38;5;28;01mif\u001b[39;00m kind == \u001b[33m\"\u001b[39m\u001b[33mcategorical\u001b[39m\u001b[33m\"\u001b[39m:\n\u001b[32m---> \u001b[39m\u001b[32m68\u001b[39m     \u001b[38;5;28;01mreturn\u001b[39;00m \u001b[43mCategoricalFDT\u001b[49m\u001b[43m(\u001b[49m\u001b[43mdata_series\u001b[49m\u001b[43m,\u001b[49m\u001b[43m \u001b[49m\u001b[43m*\u001b[49m\u001b[43m*\u001b[49m\u001b[43mkwargs\u001b[49m\u001b[43m)\u001b[49m\n\u001b[32m     69\u001b[39m \u001b[38;5;28;01melif\u001b[39;00m kind == \u001b[33m\"\u001b[39m\u001b[33mnumerical\u001b[39m\u001b[33m\"\u001b[39m:\n\u001b[32m     70\u001b[39m     \u001b[38;5;28;01mreturn\u001b[39;00m NumericalFDT(data_series, **kwargs)\n",
      "\u001b[31mTypeError\u001b[39m: CategoricalFDT.__init__() got an unexpected keyword argument 'na_rm'"
     ]
    }
   ],
   "source": [
    "# Teste 5\n",
    "# Testa o comportamento da função ao encontrar valores ausentes (None) no array, com na_rm=False.\n",
    "try:\n",
    "    dados = np.array([2, None, 8, 10, None, 18])\n",
    "    resultado = fdt(dados, na_rm=False)\n",
    "except ValueError as e:\n",
    "    print('Erro:', e)"
   ]
  },
  {
   "cell_type": "code",
   "execution_count": 12,
   "id": "1316acde",
   "metadata": {},
   "outputs": [
    {
     "name": "stdout",
     "output_type": "stream",
     "text": [
      "Erro: Please check the function syntax!\n"
     ]
    }
   ],
   "source": [
    "# Teste 6\n",
    "# Testa se a função detecta inconsistências nos parâmetros (k e h definidos simultaneamente).\n",
    "try:\n",
    "    dados = np.array([1, 2, 3, 4])\n",
    "    resultado = fdt(dados, start=1, end=5, k=2, h=1)\n",
    "except ValueError as e:\n",
    "    print('Erro:', e)"
   ]
  },
  {
   "cell_type": "markdown",
   "metadata": {},
   "source": [
    "### FDT Matrix Testing\n",
    "Os exemplos a seguir mostram o uso de `fdt`, que calcula tabelas de distribuição de frequência a partir de matrizes usando diferentes métodos de cálculo de classe."
   ]
  },
  {
   "cell_type": "code",
   "execution_count": 13,
   "metadata": {},
   "outputs": [
    {
     "name": "stdout",
     "output_type": "stream",
     "text": [
      "MultipleFDT (2 tables):\n",
      "\n",
      "0: NumericalFDT (5 elements, 4 classes, amplitude of 1.01):\n",
      "Class limits  f  rf  rf(%)  cf  cf(%)\n",
      " [0.99, 2.0)  2 0.4   40.0   2   40.0\n",
      " [2.0, 3.02)  1 0.2   20.0   3   60.0\n",
      "[3.02, 4.04)  1 0.2   20.0   4   80.0\n",
      "[4.04, 5.05)  1 0.2   20.0   5  100.0\n",
      "\n",
      "\n",
      "1: NumericalFDT (5 elements, 4 classes, amplitude of 10.15):\n",
      " Class limits  f  rf  rf(%)  cf  cf(%)\n",
      " [9.9, 20.05)  2 0.4   40.0   2   40.0\n",
      "[20.05, 30.2)  1 0.2   20.0   3   60.0\n",
      "[30.2, 40.35)  1 0.2   20.0   4   80.0\n",
      "[40.35, 50.5)  1 0.2   20.0   5  100.0\n",
      "\n",
      "\n",
      "\n"
     ]
    }
   ],
   "source": [
    "# Matriz de entrada para teste\n",
    "data_matrix = np.array([\n",
    "    [1, 10],\n",
    "    [2, 20],\n",
    "    [3, 30],\n",
    "    [4, 40],\n",
    "    [5, 50]\n",
    "])\n",
    "# Teste com um número especificado de classes\n",
    "result_k3 = fdt(data_matrix, k=3, right=False, na_rm=False)\n",
    "print(result_k3)"
   ]
  },
  {
   "cell_type": "markdown",
   "metadata": {},
   "source": [
    "### FDT Multiple Testing\n",
    "Esta seção testa a função `fdt` que manipula múltiplas séries de dados e calcula a tabela de distribuição de frequência."
   ]
  },
  {
   "cell_type": "code",
   "execution_count": 16,
   "metadata": {},
   "outputs": [
    {
     "name": "stdout",
     "output_type": "stream",
     "text": [
      "NumericalFDT (7 elements, 4 classes, amplitude of 7.62):\n",
      "  Class limits  f   rf  rf(%)  cf  cf(%)\n",
      "  [9.9, 17.52)  2 0.29  28.57   2  28.57\n",
      "[17.52, 25.15)  2 0.29  28.57   4  57.14\n",
      "[25.15, 32.77)  1 0.14  14.29   5  71.43\n",
      " [32.77, 40.4)  2 0.29  28.57   7 100.00\n",
      "... 2 more lines\n",
      "BreaksInfo(start=np.float64(9.9), end=np.float64(40.4), h=np.float64(7.625), k=4, right=0, bins=array([ 9.9  , 17.525, 25.15 , 32.775, 40.4  ]))\n"
     ]
    }
   ],
   "source": [
    "# Teste 1\n",
    "x_uniform = pd.Series([10, 15, 20, 25, 30, 35, 40])\n",
    "result_uniform_python = fdt(data=x_uniform, breaks='Sturges', right=False, na_rm=True)\n",
    "print(result_uniform_python)\n",
    "print(result_uniform_python.breaks_info)"
   ]
  },
  {
   "cell_type": "markdown",
   "metadata": {},
   "source": [
    "### FDT Simple Testing\n",
    "A função `fdt` nos permite calcular uma tabela de distribuição de frequência para intervalos simples."
   ]
  },
  {
   "cell_type": "code",
   "execution_count": 18,
   "metadata": {},
   "outputs": [
    {
     "name": "stdout",
     "output_type": "stream",
     "text": [
      "Test 1 - Basic intervals\n",
      "NumericalFDT (7 elements, None classes, amplitude of 10.00):\n",
      "Class limits  f   rf  rf(%)  cf  cf(%)\n",
      "     [0, 10)  1 0.14  14.29   1  14.29\n",
      "    [10, 20)  2 0.29  28.57   3  42.86\n",
      "    [20, 30)  2 0.29  28.57   5  71.43\n",
      "    [30, 40)  2 0.29  28.57   7 100.00\n",
      "... 2 more lines\n"
     ]
    }
   ],
   "source": [
    "# Teste 1: Intervalos básicos\n",
    "x = np.array([5, 10, 15, 20, 25, 30, 35])\n",
    "start = 0\n",
    "end = 40\n",
    "h = 10\n",
    "print('Test 1 - Basic intervals')\n",
    "print(fdt(x, start=start, end=end, h=h))"
   ]
  },
  {
   "cell_type": "markdown",
   "metadata": {},
   "source": [
    "### FDT Default Printing and Summarization\n",
    "Nesta seção, exploramos como usar `.to_string()` para formatar e resumir tabelas de distribuição de frequência geradas por `fdt`."
   ]
  },
  {
   "cell_type": "code",
   "execution_count": 28,
   "metadata": {},
   "outputs": [
    {
     "name": "stdout",
     "output_type": "stream",
     "text": [
      "Exemplo com seleção de colunas e nome de colunas\n",
      "Class limits Class limits  f   rf\n",
      "[2.84, 3.76) [2.84, 3.76)  5 0.17\n",
      "[3.76, 4.68) [3.76, 4.68)  6 0.20\n",
      " [4.68, 5.6)  [4.68, 5.6)  6 0.20\n",
      " [5.6, 6.52)  [5.6, 6.52)  5 0.17\n",
      "[6.52, 7.43) [6.52, 7.43)  3 0.10\n",
      "[7.43, 8.35) [7.43, 8.35)  5 0.17\n"
     ]
    }
   ],
   "source": [
    "# Vetor inicial\n",
    "x = [6.34, 4.57, 7.89, 5.12, 4.26, 5.77, 2.95, 8.13, 3.48, 6.05, \n",
    "     4.93, 6.88, 7.21, 3.69, 5.55, 2.87, 5.02, 4.31, 6.79, 3.98, \n",
    "     7.44, 5.36, 6.12, 4.59, 8.27, 3.65, 5.48, 7.81, 3.93, 5.67]\n",
    "\n",
    "# Gera uma tdf \n",
    "tdf_x = fdt(x, breaks='Sturges')\n",
    "\n",
    "# Faz a sumarização e formatação de duas maneiras diferentes \n",
    "print('Exemplo com seleção de colunas e nome de colunas')\n",
    "print(tdf_x.to_string(columns=['Class limits','f','rf'], round=2))"
   ]
  }
 ],
 "metadata": {
  "kernelspec": {
   "display_name": ".venv (3.13.3)",
   "language": "python",
   "name": "python3"
  },
  "language_info": {
   "codemirror_mode": {
    "name": "ipython",
    "version": 3
   },
   "file_extension": ".py",
   "mimetype": "text/x-python",
   "name": "python",
   "nbconvert_exporter": "python",
   "pygments_lexer": "ipython3",
   "version": "3.13.3"
  }
 },
 "nbformat": 4,
 "nbformat_minor": 5
}
