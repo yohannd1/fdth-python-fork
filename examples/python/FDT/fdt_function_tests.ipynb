{
 "cells": [
  {
   "cell_type": "markdown",
   "metadata": {},
   "source": [
    "# FDT Function Testing\n",
    "Este caderno demonstra o uso das funções FDT para gerar tabelas de distribuição de frequência e sumarizar dados em diferentes formatos.\n",
    "Exploraremos diferentes exemplos para diversos casos de uso, incluindo quadros de dados, matrizes e séries de dados personalizadas."
   ]
  },
  {
   "cell_type": "code",
   "execution_count": null,
   "metadata": {},
   "outputs": [],
   "source": [
    "from fdth.fdt_data_frame import fdt_data_frame\n",
    "import pandas as pd\n",
    "\n",
    "# Test 1: A simple DataFrame with a single numeric column\n",
    "df1 = pd.DataFrame({\n",
    "    'A': [1, 2, 2, 3, 3, 3, 4, 4, 4, 4]\n",
    "})\n",
    "result1 = fdt_data_frame(df1)\n",
    "print(result1)\n",
    "\n",
    "# Test 2: A DataFrame with two numeric columns\n",
    "df2 = pd.DataFrame({\n",
    "    'A': [1, 2, 3, 4, 5, 6, 7, 8, 9, 10],\n",
    "    'B': [10, 9, 8, 7, 6, 5, 4, 3, 2, 1]\n",
    "})\n",
    "print('\\nTest 2 (without grouping):')\n",
    "result2 = fdt_data_frame(df2)\n",
    "print(result2)\n",
    "\n",
    "# Test 3: DataFrame with grouping\n",
    "df3 = pd.DataFrame({\n",
    "    'A': [1, 2, 2, 3, 3, 3, 4, 4, 4, 4],\n",
    "    'B': [10, 20, 20, 30, 30, 30, 40, 40, 40, 40],\n",
    "    'Group': ['G1', 'G1', 'G1', 'G1', 'G2', 'G2', 'G2', 'G2', 'G2', 'G2']\n",
    "})\n",
    "result3 = fdt_data_frame(df3, by='Group')\n",
    "print(result3)\n"
   ]
  },
  {
   "cell_type": "markdown",
   "metadata": {},
   "source": [
    "### FDT Default Testing\n",
    "Os testes a seguir demonstram como usar a função `fdt_default`, incluindo diferentes métodos de cálculo de classes, como Freedman-Diaconis, Sturges e intervalos fixos."
   ]
  },
  {
   "cell_type": "code",
   "execution_count": null,
   "metadata": {},
   "outputs": [],
   "source": [
    "import numpy as np\n",
    "from fdth.fdt_default import fdt_default\n",
    "\n",
    "# Test 1\n",
    "# Testa o método de cálculo de classes usando a regra de Freedman-Diaconis ('FD').\n",
    "dados = np.array([2, 5, 7, 10, 12, 15, 18])\n",
    "resultado = fdt_default(dados, breaks='Sturges')\n",
    "print(resultado['table'])\n",
    "\n",
    "# Teste 2\n",
    "# Testa a criação de uma tabela de frequência definindo um número fixo de classes (k=4).\n",
    "dados = np.array([3, 6, 9, 12, 15, 18, 21])\n",
    "resultado = fdt_default(dados, k=4)\n",
    "print(resultado['table'])\n",
    "\n",
    "# Teste 3\n",
    "# Testa o uso de valores iniciais (start) e finais (end) personalizados para a tabela.\n",
    "dados = np.array([1, 4, 7, 10, 13, 16, 19])\n",
    "resultado = fdt_default(dados, start=0, end=20)\n",
    "print(resultado['table'])\n",
    "\n",
    "# Teste 4\n",
    "# Testa a especificação de um intervalo fixo (h=8) para as classes, com limites iniciais e finais definidos.\n",
    "dados = np.array([10, 15, 20, 25, 30, 35, 40])\n",
    "resultado = fdt_default(dados, start=10, end=50, h=8)\n",
    "print(resultado['table'])\n",
    "\n",
    "# Teste 5\n",
    "# Testa o comportamento da função ao encontrar valores ausentes (None) no array, com na_rm=False.\n",
    "try:\n",
    "    dados = np.array([2, None, 8, 10, None, 18])\n",
    "    resultado = fdt_default(dados, na_rm=False)\n",
    "except ValueError as e:\n",
    "    print('Erro:', e)\n",
    "\n",
    "# Teste 6\n",
    "# Testa se a função detecta inconsistências nos parâmetros (k e h definidos simultaneamente).\n",
    "try:\n",
    "    dados = np.array([1, 2, 3, 4])\n",
    "    resultado = fdt_default(dados, start=1, end=5, k=2, h=1)\n",
    "except ValueError as e:\n",
    "    print('Erro:', e)\n"
   ]
  },
  {
   "cell_type": "markdown",
   "metadata": {},
   "source": [
    "### FDT Matrix Testing\n",
    "Os exemplos a seguir mostram o uso de `fdt_matrix`, que calcula tabelas de distribuição de frequência a partir de matrizes usando diferentes métodos de cálculo de classe."
   ]
  },
  {
   "cell_type": "code",
   "execution_count": null,
   "metadata": {},
   "outputs": [],
   "source": [
    "from fdth.fdt_matrix import fdt_matrix\n",
    "\n",
    "# Input matrix for testing\n",
    "data_matrix = np.array([\n",
    "    [1, 10],\n",
    "    [2, 20],\n",
    "    [3, 30],\n",
    "    [4, 40],\n",
    "    [5, 50]\n",
    "])\n",
    "# Test with a specified number of classes\n",
    "result_k3 = fdt_matrix(data_matrix, k=3, right=False, na_rm=False)\n",
    "print(result_k3)\n"
   ]
  },
  {
   "cell_type": "markdown",
   "metadata": {},
   "source": [
    "### FDT Multiple Testing\n",
    "Esta seção testa a função `make_fdt_multiple` que manipula múltiplas séries de dados e calcula a tabela de distribuição de frequência."
   ]
  },
  {
   "cell_type": "code",
   "execution_count": null,
   "metadata": {},
   "outputs": [],
   "source": [
    "from fdth.make_fdt_multiple import make_fdt_multiple\n",
    "import pandas as pd\n",
    "import numpy as np\n",
    "\n",
    "# Test 1\n",
    "x_uniform = pd.Series([10, 15, 20, 25, 30, 35, 40])\n",
    "result_uniform_python = make_fdt_multiple(x=x_uniform, breaks='Sturges', right=False, na_rm=True)\n",
    "print(result_uniform_python['table'])\n",
    "print(result_uniform_python['breaks'])\n"
   ]
  },
  {
   "cell_type": "markdown",
   "metadata": {},
   "source": [
    "### FDT Simple Testing\n",
    "A função `make_fdt_simple` nos permite calcular uma tabela de distribuição de frequência para intervalos simples."
   ]
  },
  {
   "cell_type": "code",
   "execution_count": null,
   "metadata": {},
   "outputs": [],
   "source": [
    "from fdth.make_fdt_simple import make_fdt_simple\n",
    "\n",
    "# Test 1: Basic intervals\n",
    "x = np.array([5, 10, 15, 20, 25, 30, 35])\n",
    "start = 0\n",
    "end = 40\n",
    "h = 10\n",
    "print('Test 1 - Basic intervals')\n",
    "print(make_fdt_simple(x, start, end, h))\n"
   ]
  },
  {
   "cell_type": "markdown",
   "metadata": {},
   "source": [
    "### FDT Default Printing and Summarization\n",
    "Nesta seção, exploramos como usar `print_fdt_default` para formatar e resumir tabelas de distribuição de frequência geradas por `fdt_default`."
   ]
  },
  {
   "cell_type": "code",
   "execution_count": null,
   "metadata": {},
   "outputs": [],
   "source": [
    "from fdth.print_fdt_default import print_fdt_default\n",
    "from fdth.fdt_default import fdt_default\n",
    "\n",
    "# Vetor inicial\n",
    "x = [6.34, 4.57, 7.89, 5.12, 4.26, 5.77, 2.95, 8.13, 3.48, 6.05, \n",
    "     4.93, 6.88, 7.21, 3.69, 5.55, 2.87, 5.02, 4.31, 6.79, 3.98, \n",
    "     7.44, 5.36, 6.12, 4.59, 8.27, 3.65, 5.48, 7.81, 3.93, 5.67]\n",
    "\n",
    "# Gera uma tdf \n",
    "tdf_x = fdt_default(x = x, breaks='Sturges')\n",
    "\n",
    "# Faz a sumarização e formatação de duas maneiras diferentes \n",
    "print('Exemplo com seleção de colunas e nome de colunas')\n",
    "print_fdt_default(tdf_x, columns=[0,1,2], round=2, format_classes=False, row_names=True)\n",
    "print()\n",
    "print('Exemplo com seleção de colunas e formatação de classes')\n",
    "col = [0, 3, 5]\n",
    "print_fdt_default(tdf_x, columns = col, format_classes = True, pattern = '{:.5e}')\n"
   ]
  },
  {
   "cell_type": "markdown",
   "metadata": {},
   "source": [
    "### FDT Default Summary\n",
    "Resumindo tabelas de distribuição de frequência com saída formatada usando `summary_fdt_default`."
   ]
  },
  {
   "cell_type": "code",
   "execution_count": null,
   "metadata": {},
   "outputs": [],
   "source": [
    "from fdth.summary_fdt_default import summary_fdt_default\n",
    "from fdth.fdt_default import fdt_default\n",
    "\n",
    "# Vetor inicial\n",
    "x = [6.34, 4.57, 7.89, 5.12, 4.26, 5.77, 2.95, 8.13, 3.48, 6.05, \n",
    "     4.93, 6.88, 7.21, 3.69, 5.55, 2.87, 5.02, 4.31, 6.79, 3.98, \n",
    "     7.44, 5.36, 6.12, 4.59, 8.27, 3.65, 5.48, 7.81, 3.93, 5.67]\n",
    "\n",
    "# Gera uma tdf \n",
    "tdf_x = fdt_default(x = x, breaks='Sturges')\n",
    "\n",
    "# Faz a sumarização e formatação de duas maneiras diferentes \n",
    "summary_fdt_default(tdf_x, columns=[0,1,2], round=2, format_classes=False, row_names=True)\n",
    "print()\n",
    "summary_fdt_default(tdf_x, columns = col, format_classes = True, pattern = '{:.5e}')\n"
   ]
  }
 ],
 "metadata": {
  "language_info": {
   "name": "python"
  }
 },
 "nbformat": 4,
 "nbformat_minor": 5
}
