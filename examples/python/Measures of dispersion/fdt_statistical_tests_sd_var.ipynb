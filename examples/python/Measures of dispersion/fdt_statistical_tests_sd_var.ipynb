{
 "cells": [
  {
   "cell_type": "markdown",
   "id": "f4eecfb7",
   "metadata": {},
   "source": [
    "### Imports"
   ]
  },
  {
   "cell_type": "code",
   "execution_count": null,
   "id": "8d1025aa",
   "metadata": {},
   "outputs": [],
   "source": [
    "import numpy as np\n",
    "from fdth.sd_fdt_default import sd_fdt\n",
    "from fdth.var_fdt_default import var_fdt"
   ]
  },
  {
   "cell_type": "markdown",
   "metadata": {},
   "source": [
    "# FDT Standard Deviation and Variance Testing\n",
    "Este caderno demonstra o uso das funções FDT para calcular o desvio-padrão e a variância a partir de tabelas de distribuição de frequência e séries de dados padrão.\n",
    "Exploraremos diferentes exemplos para diversos casos de uso envolvendo cálculos de desvio-padrão e variância."
   ]
  },
  {
   "cell_type": "markdown",
   "id": "2c89ad37",
   "metadata": {},
   "source": [
    "### FDT Standard Deviation Testing\n",
    "Esta seção demonstra o cálculo da variância das tabelas de distribuição de frequência usando a função `sd_fdt`."
   ]
  },
  {
   "cell_type": "code",
   "execution_count": null,
   "id": "9ecc6a13",
   "metadata": {},
   "outputs": [],
   "source": [
    "# Teste 1\n",
    "data_test1 = {\n",
    "    'breaks': {'start': 0, 'end': 10, 'h': 2},\n",
    "    'table': np.array([\n",
    "        [0, 2],\n",
    "        [2, 2],\n",
    "        [4, 2],\n",
    "        [6, 2],\n",
    "        [8, 2]\n",
    "    ])\n",
    "}\n",
    "# Executando o teste\n",
    "print('Teste 1 (Desvio Padrão):', sd_fdt(data_test1))"
   ]
  },
  {
   "cell_type": "code",
   "execution_count": null,
   "id": "d02fd343",
   "metadata": {},
   "outputs": [],
   "source": [
    "# Teste 2\n",
    "data_test2 = {\n",
    "    'breaks': {'start': 0, 'end': 12, 'h': 3},\n",
    "    'table': np.array([\n",
    "        [0, 1],\n",
    "        [3, 2],\n",
    "        [6, 3],\n",
    "        [9, 4]\n",
    "    ])\n",
    "}\n",
    "# Executando o teste\n",
    "print('Teste 2 (Desvio Padrão):', sd_fdt(data_test2))"
   ]
  },
  {
   "cell_type": "code",
   "execution_count": null,
   "id": "9665ab50",
   "metadata": {},
   "outputs": [],
   "source": [
    "# Teste 3\n",
    "data_test3 = {\n",
    "    'breaks': {'start': 0, 'end': 16, 'h': 4},\n",
    "    'table': np.array([\n",
    "        [0, 8],\n",
    "        [4, 6],\n",
    "        [8, 4],\n",
    "        [12, 2]\n",
    "    ])\n",
    "}\n",
    "# Executando o teste\n",
    "print('Teste 3 (Desvio Padrão):', sd_fdt(data_test3))"
   ]
  },
  {
   "cell_type": "code",
   "execution_count": null,
   "id": "36294f66",
   "metadata": {},
   "outputs": [],
   "source": [
    "\n",
    "# Teste 4\n",
    "data_test4 = {\n",
    "    'breaks': {'start': 0, 'end': 20, 'h': 5},\n",
    "    'table': np.array([\n",
    "        [0, 3],\n",
    "        [5, 7],\n",
    "        [10, 5],\n",
    "        [15, 2]\n",
    "    ])\n",
    "}\n",
    "# Executando o teste\n",
    "print('Teste 4 (Desvio Padrão):', sd_fdt(data_test4))"
   ]
  },
  {
   "cell_type": "markdown",
   "metadata": {},
   "source": [
    "### FDT Variance Testing\n",
    "Esta seção demonstra o cálculo da variância das tabelas de distribuição de frequência usando a função `var_fdt`."
   ]
  },
  {
   "cell_type": "code",
   "execution_count": null,
   "metadata": {},
   "outputs": [],
   "source": [
    "# Dados para o teste\n",
    "data_test1 = {\n",
    "    'breaks': {'start': 0, 'end': 10, 'h': 2},\n",
    "    'table': np.array([\n",
    "        [0, 2],\n",
    "        [2, 2],\n",
    "        [4, 2],\n",
    "        [6, 2],\n",
    "        [8, 2]\n",
    "    ])\n",
    "}\n",
    "# Executando o teste\n",
    "print('Teste 1 (Variância):', var_fdt(data_test1))"
   ]
  },
  {
   "cell_type": "code",
   "execution_count": null,
   "id": "77fb8a97",
   "metadata": {},
   "outputs": [],
   "source": [
    "# Dados para o teste\n",
    "data_test2 = {\n",
    "    'breaks': {'start': 0, 'end': 12, 'h': 3},\n",
    "    'table': np.array([\n",
    "        [0, 1],\n",
    "        [3, 2],\n",
    "        [6, 3],\n",
    "        [9, 4]\n",
    "    ])\n",
    "}\n",
    "# Executando o teste\n",
    "print('Teste 2 (Variância):', var_fdt(data_test2))"
   ]
  },
  {
   "cell_type": "code",
   "execution_count": null,
   "id": "3b5ced81",
   "metadata": {},
   "outputs": [],
   "source": [
    "# Dados para o teste\n",
    "data_test3 = {\n",
    "    'breaks': {'start': 0, 'end': 16, 'h': 4},\n",
    "    'table': np.array([\n",
    "        [0, 8],\n",
    "        [4, 6],\n",
    "        [8, 4],\n",
    "        [12, 2]\n",
    "    ])\n",
    "}\n",
    "# Executando o teste\n",
    "print('Teste 3 (Variância):', var_fdt(data_test3))"
   ]
  },
  {
   "cell_type": "code",
   "execution_count": null,
   "id": "d83fc657",
   "metadata": {},
   "outputs": [],
   "source": [
    "# Dados para o teste\n",
    "data_test4 = {\n",
    "    'breaks': {'start': 0, 'end': 20, 'h': 5},\n",
    "    'table': np.array([\n",
    "        [0, 3],\n",
    "        [5, 7],\n",
    "        [10, 5],\n",
    "        [15, 2]\n",
    "    ])\n",
    "}\n",
    "\n",
    "# Executando o teste\n",
    "print('Teste 4 (Variância):', var_fdt(data_test4))"
   ]
  }
 ],
 "metadata": {
  "language_info": {
   "name": "python"
  }
 },
 "nbformat": 4,
 "nbformat_minor": 5
}
