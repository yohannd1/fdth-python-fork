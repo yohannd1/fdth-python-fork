{
 "cells": [
  {
   "cell_type": "markdown",
   "id": "2c8bb068",
   "metadata": {},
   "source": [
    "### Imports"
   ]
  },
  {
   "cell_type": "code",
   "execution_count": null,
   "id": "5f06b90a",
   "metadata": {},
   "outputs": [],
   "source": [
    "import numpy as np\n",
    "import pandas as pd\n",
    "from fdth import fdt"
   ]
  },
  {
   "cell_type": "code",
   "execution_count": null,
   "id": "35ec4ac4",
   "metadata": {},
   "outputs": [],
   "source": [
    "dados = [1, 3, 2, 10, 20, 32, 35, 38, 39, 48, 51, 50, 3, 45, 3, 2, 1, 3, 23, 3, 22, 17, 19, 25]\n",
    "fd = fdt(dados)"
   ]
  },
  {
   "cell_type": "code",
   "execution_count": null,
   "id": "e35a887b",
   "metadata": {},
   "outputs": [],
   "source": [
    "# absolute frequency histogram\n",
    "fd.plot(type_=\"fh\")"
   ]
  },
  {
   "cell_type": "code",
   "execution_count": null,
   "id": "abec7c09",
   "metadata": {},
   "outputs": [],
   "source": [
    "# absolute frequency polygon\n",
    "fd.plot(type_=\"fp\")"
   ]
  },
  {
   "cell_type": "code",
   "execution_count": null,
   "id": "7e02417c",
   "metadata": {},
   "outputs": [],
   "source": [
    "# relative frequency histogram\n",
    "fd.plot(type_=\"rfh\")"
   ]
  },
  {
   "cell_type": "code",
   "execution_count": null,
   "id": "8c886442",
   "metadata": {},
   "outputs": [],
   "source": [
    "# relative frequency polygon\n",
    "fd.plot(type_=\"rfp\")"
   ]
  },
  {
   "cell_type": "code",
   "execution_count": null,
   "id": "67193905",
   "metadata": {},
   "outputs": [],
   "source": [
    "# relative frequency (%) histogram\n",
    "fd.plot(type_=\"rfph\")"
   ]
  },
  {
   "cell_type": "code",
   "execution_count": null,
   "id": "3608404b",
   "metadata": {},
   "outputs": [],
   "source": [
    "# relative frequency (%) polygon\n",
    "fd.plot(type_=\"rfpp\")"
   ]
  },
  {
   "cell_type": "code",
   "execution_count": null,
   "id": "51dd5513",
   "metadata": {},
   "outputs": [],
   "source": [
    "# density\n",
    "fd.plot(type_=\"d\")"
   ]
  },
  {
   "cell_type": "code",
   "execution_count": null,
   "id": "803489ed",
   "metadata": {},
   "outputs": [],
   "source": [
    "# cumulative density histogram\n",
    "fd.plot(type_=\"cdh\")"
   ]
  },
  {
   "cell_type": "code",
   "execution_count": null,
   "id": "709817f1",
   "metadata": {},
   "outputs": [],
   "source": [
    "# cumulative density polygon\n",
    "fd.plot(type_=\"cdp\")"
   ]
  },
  {
   "cell_type": "code",
   "execution_count": null,
   "id": "3fbb4100",
   "metadata": {},
   "outputs": [],
   "source": [
    "# cumulative frequency histogram\n",
    "fd.plot(type_=\"cfh\")"
   ]
  },
  {
   "cell_type": "code",
   "execution_count": null,
   "id": "7a27b93d",
   "metadata": {},
   "outputs": [],
   "source": [
    "# cumulative frequency polygon\n",
    "fd.plot(type_=\"cfp\")"
   ]
  },
  {
   "cell_type": "code",
   "execution_count": null,
   "id": "57cedde1",
   "metadata": {},
   "outputs": [],
   "source": [
    "# cumulative frequency (%) histogram\n",
    "fd.plot(type_=\"cfph\")"
   ]
  },
  {
   "cell_type": "code",
   "execution_count": null,
   "id": "b8568fb1",
   "metadata": {},
   "outputs": [],
   "source": [
    "# cumulative frequency (%) polygon\n",
    "fd.plot(type_=\"cfpp\")"
   ]
  }
 ],
 "metadata": {
  "kernelspec": {
   "display_name": "venv",
   "language": "python",
   "name": "python3"
  },
  "language_info": {
   "codemirror_mode": {
    "name": "ipython",
    "version": 3
   },
   "file_extension": ".py",
   "mimetype": "text/x-python",
   "name": "python",
   "nbconvert_exporter": "python",
   "pygments_lexer": "ipython3",
   "version": "3.13.5"
  }
 },
 "nbformat": 4,
 "nbformat_minor": 5
}
