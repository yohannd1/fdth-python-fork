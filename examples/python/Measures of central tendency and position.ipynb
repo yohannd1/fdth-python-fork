{
 "cells": [
  {
   "cell_type": "markdown",
   "id": "33b508f3",
   "metadata": {},
   "source": [
    "### Imports"
   ]
  },
  {
   "cell_type": "code",
   "execution_count": 1,
   "id": "bbf7dac8",
   "metadata": {},
   "outputs": [],
   "source": [
    "import numpy as np\n",
    "from fdth import fdt"
   ]
  },
  {
   "cell_type": "markdown",
   "id": "dafc9cff",
   "metadata": {},
   "source": [
    "# FDT Central Tendency and Position\n",
    "\n",
    "Este caderno demonstra o uso dos metodos FDT para calcular a média, a mediana e a moda a partir de tabelas de distribuição de frequência e séries de dados padrão.\n",
    "\n",
    "Exploraremos diferentes exemplos para diversos casos de uso, incluindo cálculos de média, mediana e moda.\n",
    "\n",
    "Além disso, também exploraremos a medida de posição do quantil.\n",
    "\n",
    "### FDT Mean Testing\n",
    "Esta seção demonstra o cálculo da média usando o metodo `.mean()`."
   ]
  },
  {
   "cell_type": "code",
   "execution_count": 2,
   "id": "58820967",
   "metadata": {},
   "outputs": [
    {
     "name": "stdout",
     "output_type": "stream",
     "text": [
      "Teste 1: 5.949888888888888\n"
     ]
    }
   ],
   "source": [
    "# Dados para o 1° teste\n",
    "data_test1 = fdt([1, 5, 3, 8, 10, 5.1, 3.2, 9.1, 8])\n",
    "# Executando o teste\n",
    "print('Teste 1:', data_test1.mean())"
   ]
  },
  {
   "cell_type": "code",
   "execution_count": 3,
   "id": "69d5be83",
   "metadata": {},
   "outputs": [
    {
     "name": "stdout",
     "output_type": "stream",
     "text": [
      "Teste 2: 4.141000000000001\n"
     ]
    }
   ],
   "source": [
    "# Dados para o 2° teste\n",
    "data_test2 = fdt([0,1,3,2,6,3,8,9,4])\n",
    "\n",
    "# Executando o teste\n",
    "print('Teste 2:', data_test2.mean())"
   ]
  },
  {
   "cell_type": "markdown",
   "id": "49f6e20e",
   "metadata": {},
   "source": [
    "### FDT QUANTILE Testing\n",
    "Esta seção demonstra o uso do método `.quantile()` para estimar valores posicionais com base na distribuição de frequências dos dados agrupados."
   ]
  },
  {
   "cell_type": "code",
   "execution_count": 12,
   "id": "7c36189b",
   "metadata": {},
   "outputs": [
    {
     "name": "stdout",
     "output_type": "stream",
     "text": [
      "NumericalFDT (9 elements, 5 classes, amplitude of 1.62):\n",
      "Class limits  f   rf  rf(%)  cf  cf(%)\n",
      "[0.99, 2.61)  2 0.22  22.22   2  22.22\n",
      "[2.61, 4.23)  2 0.22  22.22   4  44.44\n",
      "[4.23, 5.85)  1 0.11  11.11   5  55.56\n",
      "[5.85, 7.47)  2 0.22  22.22   7  77.78\n",
      "[7.47, 9.09)  2 0.22  22.22   9 100.00\n",
      "\n",
      "Teste 1: 3.3956999999999997\n",
      "\n",
      "Teste 2: 2.8125\n",
      "\n",
      "Teste 3:\n",
      " 0.00%     0.990\n",
      "10.00%    1.719\n",
      "20.00%    2.448\n",
      "30.00%    3.177\n",
      "40.00%    3.906\n",
      "50.00%    5.040\n",
      "60.00%    6.174\n",
      "70.00%    6.903\n",
      "80.00%    7.632\n",
      "90.00%    8.361\n",
      "dtype: float64\n"
     ]
    }
   ],
   "source": [
    "dados = fdt([1, 2, 3, 4, 5, 6, 7, 8, 9])\n",
    "# Executando o teste\n",
    "print(dados)\n",
    "print()\n",
    "print('Teste 1:', dados.quantile(0.33))\n",
    "print()\n",
    "print('Teste 2:', dados.quantile(0.25))\n",
    "print()\n",
    "print('Teste 3:\\n', dados.quantiles())"
   ]
  },
  {
   "cell_type": "markdown",
   "id": "c877dd0f",
   "metadata": {},
   "source": [
    "### FDT Median Testing\n",
    "\n",
    "Esta seção demonstra o cálculo da mediana a partir de tabelas de distribuição de frequência usando o metodo `.median()`."
   ]
  },
  {
   "cell_type": "code",
   "execution_count": 5,
   "id": "db11e860",
   "metadata": {},
   "outputs": [
    {
     "name": "stdout",
     "output_type": "stream",
     "text": [
      "NumericalFDT (10 elements, 5 classes, amplitude of 6.10):\n",
      "Class limits  f  rf  rf(%)  cf  cf(%)\n",
      " [9.9, 16.0)  3 0.3   30.0   3   30.0\n",
      "[16.0, 22.1)  2 0.2   20.0   5   50.0\n",
      "[22.1, 28.2)  2 0.2   20.0   7   70.0\n",
      "[28.2, 34.3)  1 0.1   10.0   8   80.0\n",
      "[34.3, 40.4)  2 0.2   20.0  10  100.0\n",
      "[40.4, 46.5)  0 0.0    0.0  10  100.0\n",
      "A mediana é: 22.1\n"
     ]
    }
   ],
   "source": [
    "# Dados de exemplo\n",
    "dados = [10, 12, 15, 20, 22, 25, 25, 30, 35, 40]\n",
    "\n",
    "# Criar uma tabela de frequências agrupada (fdt)\n",
    "tabela_fdt = fdt(dados)\n",
    "\n",
    "# Visualizar o resultado\n",
    "print(tabela_fdt)\n",
    "\n",
    "# Calcular a mediana\n",
    "mediana = tabela_fdt.median()\n",
    "print('A mediana é:', mediana)"
   ]
  },
  {
   "cell_type": "markdown",
   "id": "7f569faa",
   "metadata": {},
   "source": [
    "### FDT Mode Testing\n",
    "Esta seção demonstra o cálculo do modo usando o metodo `.mfv()`. Exploraremos vários casos com diferentes padrões de dados."
   ]
  },
  {
   "cell_type": "code",
   "execution_count": 13,
   "id": "c6ce0a9c",
   "metadata": {},
   "outputs": [
    {
     "name": "stdout",
     "output_type": "stream",
     "text": [
      "A moda de data1 é: 0    2.13375\n",
      "dtype: float64\n"
     ]
    }
   ],
   "source": [
    "# Conjunto de dados com uma única moda\n",
    "data1 = [1, 2, 2, 3, 4]\n",
    "moda = fdt(data1).mfv()\n",
    "print('A moda de data1 é:', moda)"
   ]
  },
  {
   "cell_type": "code",
   "execution_count": 21,
   "id": "c28b40ee",
   "metadata": {},
   "outputs": [
    {
     "name": "stdout",
     "output_type": "stream",
     "text": [
      "A moda de data2 é:\n",
      "  0    1.5\n",
      "1    1.5\n",
      "dtype: float64\n"
     ]
    }
   ],
   "source": [
    "# Conjunto de dados com múltiplas modas\n",
    "data2 = [1, 1, 2, 2, 3]\n",
    "moda2 = fdt(data2).mfv()\n",
    "print('A moda de data2 é:\\n ', moda2)"
   ]
  },
  {
   "cell_type": "code",
   "execution_count": 20,
   "id": "37516a77",
   "metadata": {},
   "outputs": [
    {
     "name": "stdout",
     "output_type": "stream",
     "text": [
      "A moda de data3 é: 0    1.666667\n",
      "dtype: float64\n"
     ]
    }
   ],
   "source": [
    "# Conjunto de dados onde todos os valores são únicos\n",
    "data3 = [1, 2, 3, 4, 5]\n",
    "moda3 = fdt(data3).mfv()\n",
    "print('A moda de data3 é:', moda3)"
   ]
  },
  {
   "cell_type": "code",
   "execution_count": 22,
   "id": "2a855b70",
   "metadata": {},
   "outputs": [
    {
     "name": "stdout",
     "output_type": "stream",
     "text": [
      "A moda de data4 é: 0    2.005\n",
      "dtype: float64\n"
     ]
    }
   ],
   "source": [
    "# Conjunto de dados onde todos os valores são iguais\n",
    "data4 = [2, 2, 2, 2, 2]\n",
    "moda4 = fdt(data4).mfv()\n",
    "print('A moda de data4 é:', moda4)"
   ]
  },
  {
   "cell_type": "code",
   "execution_count": 23,
   "id": "602d0ed3",
   "metadata": {},
   "outputs": [
    {
     "name": "stdout",
     "output_type": "stream",
     "text": [
      "A moda de data5 é: 0    b\n",
      "dtype: object\n"
     ]
    }
   ],
   "source": [
    "# Conjunto de dados com valores não numéricos\n",
    "data5 = ['a', 'b', 'b', 'c']\n",
    "moda5 = fdt(data5).mfv()\n",
    "print('A moda de data5 é:', moda5)"
   ]
  },
  {
   "cell_type": "code",
   "execution_count": 25,
   "id": "93443080",
   "metadata": {},
   "outputs": [
    {
     "name": "stdout",
     "output_type": "stream",
     "text": [
      "A moda de data5 é:\n",
      " 0    b\n",
      "1    c\n",
      "dtype: object\n"
     ]
    }
   ],
   "source": [
    "# Conjunto de dados com valores não numéricos\n",
    "data5 = ['a', 'b', 'b', 'c', 'c']\n",
    "moda5 = fdt(data5).mfv()\n",
    "print('A moda de data5 é:\\n', moda5)"
   ]
  }
 ],
 "metadata": {
  "kernelspec": {
   "display_name": ".venv (3.13.3)",
   "language": "python",
   "name": "python3"
  },
  "language_info": {
   "codemirror_mode": {
    "name": "ipython",
    "version": 3
   },
   "file_extension": ".py",
   "mimetype": "text/x-python",
   "name": "python",
   "nbconvert_exporter": "python",
   "pygments_lexer": "ipython3",
   "version": "3.13.3"
  }
 },
 "nbformat": 4,
 "nbformat_minor": 5
}
